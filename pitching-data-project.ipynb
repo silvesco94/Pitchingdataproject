{
 "cells": [
  {
   "cell_type": "markdown",
   "id": "bda50ddb",
   "metadata": {
    "papermill": {
     "duration": 0.01634,
     "end_time": "2023-03-06T00:00:04.152827",
     "exception": false,
     "start_time": "2023-03-06T00:00:04.136487",
     "status": "completed"
    },
    "tags": []
   },
   "source": [
    "# The Rise of the Pitcher \n",
    "## Does the data support that this is the era of the pitcher or has the increase of homeruns counteracted all the strikeouts? \n",
    "### Data originated from Fangraphs a popular baseball sabermetric website. The data ranges from 1947-2020 "
   ]
  },
  {
   "cell_type": "markdown",
   "id": "d7b76a6a",
   "metadata": {
    "papermill": {
     "duration": 0.014856,
     "end_time": "2023-03-06T00:00:04.182790",
     "exception": false,
     "start_time": "2023-03-06T00:00:04.167934",
     "status": "completed"
    },
    "tags": []
   },
   "source": [
    "\n",
    "<img src=\"https://cdn.vox-cdn.com/thumbor/xuS3XQWQmFM5es9M2IsDxuOdQfI=/1400x1400/filters:format(jpeg)/cdn.vox-cdn.com/uploads/chorus_asset/file/14787900/52970406.0.1406356884.jpg\" width=\"600\" height= \"600\"/>"
   ]
  },
  {
   "cell_type": "markdown",
   "id": "0a943733",
   "metadata": {
    "papermill": {
     "duration": 0.014949,
     "end_time": "2023-03-06T00:00:04.214033",
     "exception": false,
     "start_time": "2023-03-06T00:00:04.199084",
     "status": "completed"
    },
    "tags": []
   },
   "source": [
    "# Data Dictionary \n",
    "\n",
    "| Season | Year of data collection                                                                                                                                                                |   |   |   |\n",
    "|--------|----------------------------------------------------------------------------------------------------------------------------------------------------------------------------------------|---|---|---|\n",
    "| **Name**  | Name of the player                                                                                                                                                                     |   |   |   |\n",
    "| **WHIP**   | Walks and Hits per Innings Pitched                                                                                                                                                     |   |   |   |\n",
    "| **K/9**    | Strikeouts per 9 innings which is typical length of game.                                                                                                                              |   |   |   |\n",
    "| **ERA**    | Earned Runs Average                                                                                                                                                                    |   |   |   |\n",
    "| **BABIP**  | Batting Average of Balls in Play                                                                                                                                                       |   |   |   |\n",
    "| **FIP**    | Fielding Independent Pitching. It is a statistic meant to measure a pitcher's effectiveness, taking plays that would involve the defense trying to field the ball out of the equation. |   |   |   |\n",
    "| **WAR**   | Wins above replacement.                                                                                                                                                                |   |   |   |\n",
    "| **IP**     | Innings Pitched       \n"
   ]
  },
  {
   "cell_type": "markdown",
   "id": "d18549f2",
   "metadata": {
    "papermill": {
     "duration": 0.014481,
     "end_time": "2023-03-06T00:00:04.243460",
     "exception": false,
     "start_time": "2023-03-06T00:00:04.228979",
     "status": "completed"
    },
    "tags": []
   },
   "source": [
    "# Importing Data and Pandas "
   ]
  },
  {
   "cell_type": "code",
   "execution_count": 1,
   "id": "bacf7dc6",
   "metadata": {
    "execution": {
     "iopub.execute_input": "2023-03-06T00:00:04.275070Z",
     "iopub.status.busy": "2023-03-06T00:00:04.274295Z",
     "iopub.status.idle": "2023-03-06T00:00:05.646431Z",
     "shell.execute_reply": "2023-03-06T00:00:05.645535Z"
    },
    "papermill": {
     "duration": 1.390682,
     "end_time": "2023-03-06T00:00:05.648758",
     "exception": false,
     "start_time": "2023-03-06T00:00:04.258076",
     "status": "completed"
    },
    "tags": []
   },
   "outputs": [],
   "source": [
    "import pandas as pd\n",
    "import matplotlib.pyplot as plt\n",
    "import numpy as np\n",
    "import statsmodels.api as sm\n",
    "import statsmodels.formula.api as smf\n"
   ]
  },
  {
   "cell_type": "code",
   "execution_count": 2,
   "id": "dda1223a",
   "metadata": {
    "execution": {
     "iopub.execute_input": "2023-03-06T00:00:05.681010Z",
     "iopub.status.busy": "2023-03-06T00:00:05.680472Z",
     "iopub.status.idle": "2023-03-06T00:00:05.684245Z",
     "shell.execute_reply": "2023-03-06T00:00:05.683697Z"
    },
    "papermill": {
     "duration": 0.021771,
     "end_time": "2023-03-06T00:00:05.685920",
     "exception": false,
     "start_time": "2023-03-06T00:00:05.664149",
     "status": "completed"
    },
    "tags": []
   },
   "outputs": [],
   "source": [
    "def import_pitch():\n",
    "    return pd.read_csv('/kaggle/input/fangraphs-custom-pitching-data-19472020/pitching_1947_2001.csv')"
   ]
  },
  {
   "cell_type": "code",
   "execution_count": 3,
   "id": "be984517",
   "metadata": {
    "execution": {
     "iopub.execute_input": "2023-03-06T00:00:05.717180Z",
     "iopub.status.busy": "2023-03-06T00:00:05.716658Z",
     "iopub.status.idle": "2023-03-06T00:00:05.758151Z",
     "shell.execute_reply": "2023-03-06T00:00:05.757241Z"
    },
    "papermill": {
     "duration": 0.059511,
     "end_time": "2023-03-06T00:00:05.760231",
     "exception": false,
     "start_time": "2023-03-06T00:00:05.700720",
     "status": "completed"
    },
    "tags": []
   },
   "outputs": [],
   "source": [
    "pitch = pd.read_csv('/kaggle/input/fangraphs-custom-pitching-data-19472020/pitching_1947_2001.csv')"
   ]
  },
  {
   "cell_type": "markdown",
   "id": "b8225910",
   "metadata": {
    "papermill": {
     "duration": 0.015528,
     "end_time": "2023-03-06T00:00:05.791324",
     "exception": false,
     "start_time": "2023-03-06T00:00:05.775796",
     "status": "completed"
    },
    "tags": []
   },
   "source": [
    "# Let's take a look into the data!"
   ]
  },
  {
   "cell_type": "code",
   "execution_count": 4,
   "id": "f2a61663",
   "metadata": {
    "execution": {
     "iopub.execute_input": "2023-03-06T00:00:05.822758Z",
     "iopub.status.busy": "2023-03-06T00:00:05.822177Z",
     "iopub.status.idle": "2023-03-06T00:00:05.859519Z",
     "shell.execute_reply": "2023-03-06T00:00:05.858728Z"
    },
    "papermill": {
     "duration": 0.055767,
     "end_time": "2023-03-06T00:00:05.862000",
     "exception": false,
     "start_time": "2023-03-06T00:00:05.806233",
     "status": "completed"
    },
    "tags": []
   },
   "outputs": [
    {
     "data": {
      "text/html": [
       "<div>\n",
       "<style scoped>\n",
       "    .dataframe tbody tr th:only-of-type {\n",
       "        vertical-align: middle;\n",
       "    }\n",
       "\n",
       "    .dataframe tbody tr th {\n",
       "        vertical-align: top;\n",
       "    }\n",
       "\n",
       "    .dataframe thead th {\n",
       "        text-align: right;\n",
       "    }\n",
       "</style>\n",
       "<table border=\"1\" class=\"dataframe\">\n",
       "  <thead>\n",
       "    <tr style=\"text-align: right;\">\n",
       "      <th></th>\n",
       "      <th>season</th>\n",
       "      <th>name</th>\n",
       "      <th>team</th>\n",
       "      <th>W</th>\n",
       "      <th>L</th>\n",
       "      <th>G</th>\n",
       "      <th>GS</th>\n",
       "      <th>IP</th>\n",
       "      <th>WHIP</th>\n",
       "      <th>K/9</th>\n",
       "      <th>...</th>\n",
       "      <th>FIP-</th>\n",
       "      <th>xFIP-</th>\n",
       "      <th>K/9+</th>\n",
       "      <th>BB/9+</th>\n",
       "      <th>K/BB+</th>\n",
       "      <th>WHIP+</th>\n",
       "      <th>K%+</th>\n",
       "      <th>BB%+</th>\n",
       "      <th>WAR</th>\n",
       "      <th>playerid</th>\n",
       "    </tr>\n",
       "  </thead>\n",
       "  <tbody>\n",
       "    <tr>\n",
       "      <th>0</th>\n",
       "      <td>2020</td>\n",
       "      <td>Lance Lynn</td>\n",
       "      <td>Rangers</td>\n",
       "      <td>1</td>\n",
       "      <td>0</td>\n",
       "      <td>3</td>\n",
       "      <td>3</td>\n",
       "      <td>18.1</td>\n",
       "      <td>0.82</td>\n",
       "      <td>11.78</td>\n",
       "      <td>...</td>\n",
       "      <td>59</td>\n",
       "      <td>86.0</td>\n",
       "      <td>132</td>\n",
       "      <td>121</td>\n",
       "      <td>109.0</td>\n",
       "      <td>64</td>\n",
       "      <td>149</td>\n",
       "      <td>136</td>\n",
       "      <td>0.7</td>\n",
       "      <td>2520</td>\n",
       "    </tr>\n",
       "    <tr>\n",
       "      <th>1</th>\n",
       "      <td>2020</td>\n",
       "      <td>Randy Dobnak</td>\n",
       "      <td>Twins</td>\n",
       "      <td>2</td>\n",
       "      <td>1</td>\n",
       "      <td>3</td>\n",
       "      <td>3</td>\n",
       "      <td>15.0</td>\n",
       "      <td>0.87</td>\n",
       "      <td>4.80</td>\n",
       "      <td>...</td>\n",
       "      <td>65</td>\n",
       "      <td>87.0</td>\n",
       "      <td>54</td>\n",
       "      <td>65</td>\n",
       "      <td>82.0</td>\n",
       "      <td>68</td>\n",
       "      <td>61</td>\n",
       "      <td>75</td>\n",
       "      <td>0.4</td>\n",
       "      <td>23798</td>\n",
       "    </tr>\n",
       "    <tr>\n",
       "      <th>2</th>\n",
       "      <td>2020</td>\n",
       "      <td>Adrian Houser</td>\n",
       "      <td>Brewers</td>\n",
       "      <td>1</td>\n",
       "      <td>0</td>\n",
       "      <td>2</td>\n",
       "      <td>2</td>\n",
       "      <td>12.0</td>\n",
       "      <td>0.92</td>\n",
       "      <td>6.75</td>\n",
       "      <td>...</td>\n",
       "      <td>96</td>\n",
       "      <td>89.0</td>\n",
       "      <td>74</td>\n",
       "      <td>111</td>\n",
       "      <td>67.0</td>\n",
       "      <td>74</td>\n",
       "      <td>89</td>\n",
       "      <td>133</td>\n",
       "      <td>0.1</td>\n",
       "      <td>12718</td>\n",
       "    </tr>\n",
       "    <tr>\n",
       "      <th>3</th>\n",
       "      <td>2020</td>\n",
       "      <td>Shane Bieber</td>\n",
       "      <td>Indians</td>\n",
       "      <td>3</td>\n",
       "      <td>0</td>\n",
       "      <td>3</td>\n",
       "      <td>3</td>\n",
       "      <td>21.2</td>\n",
       "      <td>0.69</td>\n",
       "      <td>14.54</td>\n",
       "      <td>...</td>\n",
       "      <td>36</td>\n",
       "      <td>30.0</td>\n",
       "      <td>163</td>\n",
       "      <td>34</td>\n",
       "      <td>478.0</td>\n",
       "      <td>54</td>\n",
       "      <td>189</td>\n",
       "      <td>40</td>\n",
       "      <td>1.0</td>\n",
       "      <td>19427</td>\n",
       "    </tr>\n",
       "    <tr>\n",
       "      <th>4</th>\n",
       "      <td>2020</td>\n",
       "      <td>Trevor Bauer</td>\n",
       "      <td>Reds</td>\n",
       "      <td>2</td>\n",
       "      <td>0</td>\n",
       "      <td>3</td>\n",
       "      <td>3</td>\n",
       "      <td>19.1</td>\n",
       "      <td>0.57</td>\n",
       "      <td>14.90</td>\n",
       "      <td>...</td>\n",
       "      <td>42</td>\n",
       "      <td>44.0</td>\n",
       "      <td>164</td>\n",
       "      <td>55</td>\n",
       "      <td>298.0</td>\n",
       "      <td>46</td>\n",
       "      <td>193</td>\n",
       "      <td>65</td>\n",
       "      <td>0.9</td>\n",
       "      <td>12703</td>\n",
       "    </tr>\n",
       "    <tr>\n",
       "      <th>5</th>\n",
       "      <td>2020</td>\n",
       "      <td>Sonny Gray</td>\n",
       "      <td>Reds</td>\n",
       "      <td>3</td>\n",
       "      <td>0</td>\n",
       "      <td>3</td>\n",
       "      <td>3</td>\n",
       "      <td>18.2</td>\n",
       "      <td>0.70</td>\n",
       "      <td>13.50</td>\n",
       "      <td>...</td>\n",
       "      <td>55</td>\n",
       "      <td>39.0</td>\n",
       "      <td>148</td>\n",
       "      <td>71</td>\n",
       "      <td>209.0</td>\n",
       "      <td>56</td>\n",
       "      <td>171</td>\n",
       "      <td>82</td>\n",
       "      <td>0.7</td>\n",
       "      <td>12768</td>\n",
       "    </tr>\n",
       "    <tr>\n",
       "      <th>6</th>\n",
       "      <td>2020</td>\n",
       "      <td>Chris Bassitt</td>\n",
       "      <td>Athletics</td>\n",
       "      <td>1</td>\n",
       "      <td>0</td>\n",
       "      <td>3</td>\n",
       "      <td>3</td>\n",
       "      <td>16.2</td>\n",
       "      <td>0.90</td>\n",
       "      <td>8.10</td>\n",
       "      <td>...</td>\n",
       "      <td>52</td>\n",
       "      <td>101.0</td>\n",
       "      <td>91</td>\n",
       "      <td>59</td>\n",
       "      <td>154.0</td>\n",
       "      <td>70</td>\n",
       "      <td>99</td>\n",
       "      <td>64</td>\n",
       "      <td>0.6</td>\n",
       "      <td>12304</td>\n",
       "    </tr>\n",
       "    <tr>\n",
       "      <th>7</th>\n",
       "      <td>1968</td>\n",
       "      <td>Bob Gibson</td>\n",
       "      <td>Cardinals</td>\n",
       "      <td>22</td>\n",
       "      <td>9</td>\n",
       "      <td>34</td>\n",
       "      <td>34</td>\n",
       "      <td>304.2</td>\n",
       "      <td>0.85</td>\n",
       "      <td>7.92</td>\n",
       "      <td>...</td>\n",
       "      <td>65</td>\n",
       "      <td>NaN</td>\n",
       "      <td>136</td>\n",
       "      <td>70</td>\n",
       "      <td>194.0</td>\n",
       "      <td>71</td>\n",
       "      <td>148</td>\n",
       "      <td>76</td>\n",
       "      <td>8.6</td>\n",
       "      <td>1004662</td>\n",
       "    </tr>\n",
       "    <tr>\n",
       "      <th>8</th>\n",
       "      <td>2020</td>\n",
       "      <td>Zach Plesac</td>\n",
       "      <td>Indians</td>\n",
       "      <td>1</td>\n",
       "      <td>1</td>\n",
       "      <td>3</td>\n",
       "      <td>3</td>\n",
       "      <td>21.0</td>\n",
       "      <td>0.67</td>\n",
       "      <td>10.29</td>\n",
       "      <td>...</td>\n",
       "      <td>54</td>\n",
       "      <td>64.0</td>\n",
       "      <td>115</td>\n",
       "      <td>23</td>\n",
       "      <td>492.0</td>\n",
       "      <td>52</td>\n",
       "      <td>133</td>\n",
       "      <td>27</td>\n",
       "      <td>0.9</td>\n",
       "      <td>19979</td>\n",
       "    </tr>\n",
       "    <tr>\n",
       "      <th>9</th>\n",
       "      <td>2020</td>\n",
       "      <td>Alec Mills</td>\n",
       "      <td>Cubs</td>\n",
       "      <td>2</td>\n",
       "      <td>0</td>\n",
       "      <td>2</td>\n",
       "      <td>2</td>\n",
       "      <td>13.0</td>\n",
       "      <td>0.77</td>\n",
       "      <td>4.85</td>\n",
       "      <td>...</td>\n",
       "      <td>97</td>\n",
       "      <td>110.0</td>\n",
       "      <td>53</td>\n",
       "      <td>102</td>\n",
       "      <td>52.0</td>\n",
       "      <td>62</td>\n",
       "      <td>61</td>\n",
       "      <td>116</td>\n",
       "      <td>0.2</td>\n",
       "      <td>13834</td>\n",
       "    </tr>\n",
       "    <tr>\n",
       "      <th>10</th>\n",
       "      <td>2020</td>\n",
       "      <td>Adam Wainwright</td>\n",
       "      <td>Cardinals</td>\n",
       "      <td>1</td>\n",
       "      <td>0</td>\n",
       "      <td>1</td>\n",
       "      <td>1</td>\n",
       "      <td>6.0</td>\n",
       "      <td>0.67</td>\n",
       "      <td>7.50</td>\n",
       "      <td>...</td>\n",
       "      <td>56</td>\n",
       "      <td>91.0</td>\n",
       "      <td>82</td>\n",
       "      <td>44</td>\n",
       "      <td>186.0</td>\n",
       "      <td>54</td>\n",
       "      <td>91</td>\n",
       "      <td>49</td>\n",
       "      <td>0.2</td>\n",
       "      <td>2233</td>\n",
       "    </tr>\n",
       "    <tr>\n",
       "      <th>11</th>\n",
       "      <td>1985</td>\n",
       "      <td>Dwight Gooden</td>\n",
       "      <td>Mets</td>\n",
       "      <td>24</td>\n",
       "      <td>4</td>\n",
       "      <td>35</td>\n",
       "      <td>35</td>\n",
       "      <td>276.2</td>\n",
       "      <td>0.97</td>\n",
       "      <td>8.72</td>\n",
       "      <td>...</td>\n",
       "      <td>58</td>\n",
       "      <td>NaN</td>\n",
       "      <td>159</td>\n",
       "      <td>68</td>\n",
       "      <td>232.0</td>\n",
       "      <td>73</td>\n",
       "      <td>174</td>\n",
       "      <td>75</td>\n",
       "      <td>8.9</td>\n",
       "      <td>1004852</td>\n",
       "    </tr>\n",
       "    <tr>\n",
       "      <th>12</th>\n",
       "      <td>1994</td>\n",
       "      <td>Greg Maddux</td>\n",
       "      <td>Braves</td>\n",
       "      <td>16</td>\n",
       "      <td>6</td>\n",
       "      <td>25</td>\n",
       "      <td>25</td>\n",
       "      <td>202.0</td>\n",
       "      <td>0.90</td>\n",
       "      <td>6.95</td>\n",
       "      <td>...</td>\n",
       "      <td>54</td>\n",
       "      <td>NaN</td>\n",
       "      <td>109</td>\n",
       "      <td>42</td>\n",
       "      <td>258.0</td>\n",
       "      <td>65</td>\n",
       "      <td>123</td>\n",
       "      <td>48</td>\n",
       "      <td>7.4</td>\n",
       "      <td>104</td>\n",
       "    </tr>\n",
       "    <tr>\n",
       "      <th>13</th>\n",
       "      <td>2020</td>\n",
       "      <td>Frankie Montas</td>\n",
       "      <td>Athletics</td>\n",
       "      <td>2</td>\n",
       "      <td>1</td>\n",
       "      <td>4</td>\n",
       "      <td>4</td>\n",
       "      <td>23.0</td>\n",
       "      <td>1.00</td>\n",
       "      <td>8.61</td>\n",
       "      <td>...</td>\n",
       "      <td>59</td>\n",
       "      <td>100.0</td>\n",
       "      <td>96</td>\n",
       "      <td>96</td>\n",
       "      <td>100.0</td>\n",
       "      <td>78</td>\n",
       "      <td>103</td>\n",
       "      <td>103</td>\n",
       "      <td>0.8</td>\n",
       "      <td>14309</td>\n",
       "    </tr>\n",
       "    <tr>\n",
       "      <th>14</th>\n",
       "      <td>1968</td>\n",
       "      <td>Luis Tiant</td>\n",
       "      <td>Indians</td>\n",
       "      <td>21</td>\n",
       "      <td>9</td>\n",
       "      <td>34</td>\n",
       "      <td>32</td>\n",
       "      <td>258.1</td>\n",
       "      <td>0.87</td>\n",
       "      <td>9.20</td>\n",
       "      <td>...</td>\n",
       "      <td>62</td>\n",
       "      <td>NaN</td>\n",
       "      <td>154</td>\n",
       "      <td>84</td>\n",
       "      <td>183.0</td>\n",
       "      <td>74</td>\n",
       "      <td>167</td>\n",
       "      <td>91</td>\n",
       "      <td>7.4</td>\n",
       "      <td>1013054</td>\n",
       "    </tr>\n",
       "    <tr>\n",
       "      <th>15</th>\n",
       "      <td>1995</td>\n",
       "      <td>Greg Maddux</td>\n",
       "      <td>Braves</td>\n",
       "      <td>19</td>\n",
       "      <td>2</td>\n",
       "      <td>28</td>\n",
       "      <td>28</td>\n",
       "      <td>209.2</td>\n",
       "      <td>0.81</td>\n",
       "      <td>7.77</td>\n",
       "      <td>...</td>\n",
       "      <td>52</td>\n",
       "      <td>NaN</td>\n",
       "      <td>117</td>\n",
       "      <td>30</td>\n",
       "      <td>394.0</td>\n",
       "      <td>59</td>\n",
       "      <td>135</td>\n",
       "      <td>34</td>\n",
       "      <td>7.9</td>\n",
       "      <td>104</td>\n",
       "    </tr>\n",
       "    <tr>\n",
       "      <th>16</th>\n",
       "      <td>1964</td>\n",
       "      <td>Dean Chance</td>\n",
       "      <td>Angels</td>\n",
       "      <td>20</td>\n",
       "      <td>9</td>\n",
       "      <td>46</td>\n",
       "      <td>35</td>\n",
       "      <td>278.1</td>\n",
       "      <td>1.01</td>\n",
       "      <td>6.69</td>\n",
       "      <td>...</td>\n",
       "      <td>65</td>\n",
       "      <td>NaN</td>\n",
       "      <td>109</td>\n",
       "      <td>86</td>\n",
       "      <td>126.0</td>\n",
       "      <td>78</td>\n",
       "      <td>118</td>\n",
       "      <td>93</td>\n",
       "      <td>7.6</td>\n",
       "      <td>1002130</td>\n",
       "    </tr>\n",
       "    <tr>\n",
       "      <th>17</th>\n",
       "      <td>2015</td>\n",
       "      <td>Zack Greinke</td>\n",
       "      <td>Dodgers</td>\n",
       "      <td>19</td>\n",
       "      <td>3</td>\n",
       "      <td>32</td>\n",
       "      <td>32</td>\n",
       "      <td>222.2</td>\n",
       "      <td>0.84</td>\n",
       "      <td>8.08</td>\n",
       "      <td>...</td>\n",
       "      <td>73</td>\n",
       "      <td>83.0</td>\n",
       "      <td>103</td>\n",
       "      <td>55</td>\n",
       "      <td>187.0</td>\n",
       "      <td>65</td>\n",
       "      <td>115</td>\n",
       "      <td>61</td>\n",
       "      <td>5.3</td>\n",
       "      <td>1943</td>\n",
       "    </tr>\n",
       "    <tr>\n",
       "      <th>18</th>\n",
       "      <td>1981</td>\n",
       "      <td>Nolan Ryan</td>\n",
       "      <td>Astros</td>\n",
       "      <td>11</td>\n",
       "      <td>5</td>\n",
       "      <td>21</td>\n",
       "      <td>21</td>\n",
       "      <td>149.0</td>\n",
       "      <td>1.12</td>\n",
       "      <td>8.46</td>\n",
       "      <td>...</td>\n",
       "      <td>71</td>\n",
       "      <td>NaN</td>\n",
       "      <td>173</td>\n",
       "      <td>129</td>\n",
       "      <td>134.0</td>\n",
       "      <td>86</td>\n",
       "      <td>179</td>\n",
       "      <td>134</td>\n",
       "      <td>3.8</td>\n",
       "      <td>1011348</td>\n",
       "    </tr>\n",
       "    <tr>\n",
       "      <th>19</th>\n",
       "      <td>2018</td>\n",
       "      <td>Jacob deGrom</td>\n",
       "      <td>Mets</td>\n",
       "      <td>10</td>\n",
       "      <td>9</td>\n",
       "      <td>32</td>\n",
       "      <td>32</td>\n",
       "      <td>217.0</td>\n",
       "      <td>0.91</td>\n",
       "      <td>11.16</td>\n",
       "      <td>...</td>\n",
       "      <td>49</td>\n",
       "      <td>64.0</td>\n",
       "      <td>130</td>\n",
       "      <td>58</td>\n",
       "      <td>226.0</td>\n",
       "      <td>70</td>\n",
       "      <td>144</td>\n",
       "      <td>64</td>\n",
       "      <td>9.0</td>\n",
       "      <td>10954</td>\n",
       "    </tr>\n",
       "  </tbody>\n",
       "</table>\n",
       "<p>20 rows × 30 columns</p>\n",
       "</div>"
      ],
      "text/plain": [
       "    season             name       team   W  L   G  GS     IP  WHIP    K/9  \\\n",
       "0     2020       Lance Lynn    Rangers   1  0   3   3   18.1  0.82  11.78   \n",
       "1     2020     Randy Dobnak      Twins   2  1   3   3   15.0  0.87   4.80   \n",
       "2     2020    Adrian Houser    Brewers   1  0   2   2   12.0  0.92   6.75   \n",
       "3     2020     Shane Bieber    Indians   3  0   3   3   21.2  0.69  14.54   \n",
       "4     2020     Trevor Bauer       Reds   2  0   3   3   19.1  0.57  14.90   \n",
       "5     2020       Sonny Gray       Reds   3  0   3   3   18.2  0.70  13.50   \n",
       "6     2020    Chris Bassitt  Athletics   1  0   3   3   16.2  0.90   8.10   \n",
       "7     1968       Bob Gibson  Cardinals  22  9  34  34  304.2  0.85   7.92   \n",
       "8     2020      Zach Plesac    Indians   1  1   3   3   21.0  0.67  10.29   \n",
       "9     2020       Alec Mills       Cubs   2  0   2   2   13.0  0.77   4.85   \n",
       "10    2020  Adam Wainwright  Cardinals   1  0   1   1    6.0  0.67   7.50   \n",
       "11    1985    Dwight Gooden       Mets  24  4  35  35  276.2  0.97   8.72   \n",
       "12    1994      Greg Maddux     Braves  16  6  25  25  202.0  0.90   6.95   \n",
       "13    2020   Frankie Montas  Athletics   2  1   4   4   23.0  1.00   8.61   \n",
       "14    1968       Luis Tiant    Indians  21  9  34  32  258.1  0.87   9.20   \n",
       "15    1995      Greg Maddux     Braves  19  2  28  28  209.2  0.81   7.77   \n",
       "16    1964      Dean Chance     Angels  20  9  46  35  278.1  1.01   6.69   \n",
       "17    2015     Zack Greinke    Dodgers  19  3  32  32  222.2  0.84   8.08   \n",
       "18    1981       Nolan Ryan     Astros  11  5  21  21  149.0  1.12   8.46   \n",
       "19    2018     Jacob deGrom       Mets  10  9  32  32  217.0  0.91  11.16   \n",
       "\n",
       "    ... FIP-  xFIP- K/9+  BB/9+  K/BB+  WHIP+  K%+  BB%+  WAR  playerid  \n",
       "0   ...   59   86.0  132    121  109.0     64  149   136  0.7      2520  \n",
       "1   ...   65   87.0   54     65   82.0     68   61    75  0.4     23798  \n",
       "2   ...   96   89.0   74    111   67.0     74   89   133  0.1     12718  \n",
       "3   ...   36   30.0  163     34  478.0     54  189    40  1.0     19427  \n",
       "4   ...   42   44.0  164     55  298.0     46  193    65  0.9     12703  \n",
       "5   ...   55   39.0  148     71  209.0     56  171    82  0.7     12768  \n",
       "6   ...   52  101.0   91     59  154.0     70   99    64  0.6     12304  \n",
       "7   ...   65    NaN  136     70  194.0     71  148    76  8.6   1004662  \n",
       "8   ...   54   64.0  115     23  492.0     52  133    27  0.9     19979  \n",
       "9   ...   97  110.0   53    102   52.0     62   61   116  0.2     13834  \n",
       "10  ...   56   91.0   82     44  186.0     54   91    49  0.2      2233  \n",
       "11  ...   58    NaN  159     68  232.0     73  174    75  8.9   1004852  \n",
       "12  ...   54    NaN  109     42  258.0     65  123    48  7.4       104  \n",
       "13  ...   59  100.0   96     96  100.0     78  103   103  0.8     14309  \n",
       "14  ...   62    NaN  154     84  183.0     74  167    91  7.4   1013054  \n",
       "15  ...   52    NaN  117     30  394.0     59  135    34  7.9       104  \n",
       "16  ...   65    NaN  109     86  126.0     78  118    93  7.6   1002130  \n",
       "17  ...   73   83.0  103     55  187.0     65  115    61  5.3      1943  \n",
       "18  ...   71    NaN  173    129  134.0     86  179   134  3.8   1011348  \n",
       "19  ...   49   64.0  130     58  226.0     70  144    64  9.0     10954  \n",
       "\n",
       "[20 rows x 30 columns]"
      ]
     },
     "execution_count": 4,
     "metadata": {},
     "output_type": "execute_result"
    }
   ],
   "source": [
    "pitch.head(20)"
   ]
  },
  {
   "cell_type": "code",
   "execution_count": 5,
   "id": "26db7a98",
   "metadata": {
    "execution": {
     "iopub.execute_input": "2023-03-06T00:00:05.895895Z",
     "iopub.status.busy": "2023-03-06T00:00:05.895623Z",
     "iopub.status.idle": "2023-03-06T00:00:05.899963Z",
     "shell.execute_reply": "2023-03-06T00:00:05.899431Z"
    },
    "papermill": {
     "duration": 0.024104,
     "end_time": "2023-03-06T00:00:05.901758",
     "exception": false,
     "start_time": "2023-03-06T00:00:05.877654",
     "status": "completed"
    },
    "tags": []
   },
   "outputs": [
    {
     "data": {
      "text/plain": [
       "(5414, 30)"
      ]
     },
     "execution_count": 5,
     "metadata": {},
     "output_type": "execute_result"
    }
   ],
   "source": [
    "pitch.shape"
   ]
  },
  {
   "cell_type": "code",
   "execution_count": 6,
   "id": "2e27e867",
   "metadata": {
    "execution": {
     "iopub.execute_input": "2023-03-06T00:00:05.935508Z",
     "iopub.status.busy": "2023-03-06T00:00:05.935118Z",
     "iopub.status.idle": "2023-03-06T00:00:05.945983Z",
     "shell.execute_reply": "2023-03-06T00:00:05.944971Z"
    },
    "papermill": {
     "duration": 0.029718,
     "end_time": "2023-03-06T00:00:05.947737",
     "exception": false,
     "start_time": "2023-03-06T00:00:05.918019",
     "status": "completed"
    },
    "tags": []
   },
   "outputs": [
    {
     "data": {
      "text/html": [
       "<div>\n",
       "<style scoped>\n",
       "    .dataframe tbody tr th:only-of-type {\n",
       "        vertical-align: middle;\n",
       "    }\n",
       "\n",
       "    .dataframe tbody tr th {\n",
       "        vertical-align: top;\n",
       "    }\n",
       "\n",
       "    .dataframe thead th {\n",
       "        text-align: right;\n",
       "    }\n",
       "</style>\n",
       "<table border=\"1\" class=\"dataframe\">\n",
       "  <thead>\n",
       "    <tr style=\"text-align: right;\">\n",
       "      <th></th>\n",
       "      <th>Data Type</th>\n",
       "    </tr>\n",
       "  </thead>\n",
       "  <tbody>\n",
       "    <tr>\n",
       "      <th>season</th>\n",
       "      <td>int64</td>\n",
       "    </tr>\n",
       "    <tr>\n",
       "      <th>name</th>\n",
       "      <td>object</td>\n",
       "    </tr>\n",
       "    <tr>\n",
       "      <th>team</th>\n",
       "      <td>object</td>\n",
       "    </tr>\n",
       "    <tr>\n",
       "      <th>W</th>\n",
       "      <td>int64</td>\n",
       "    </tr>\n",
       "    <tr>\n",
       "      <th>L</th>\n",
       "      <td>int64</td>\n",
       "    </tr>\n",
       "    <tr>\n",
       "      <th>G</th>\n",
       "      <td>int64</td>\n",
       "    </tr>\n",
       "    <tr>\n",
       "      <th>GS</th>\n",
       "      <td>int64</td>\n",
       "    </tr>\n",
       "    <tr>\n",
       "      <th>IP</th>\n",
       "      <td>float64</td>\n",
       "    </tr>\n",
       "    <tr>\n",
       "      <th>WHIP</th>\n",
       "      <td>float64</td>\n",
       "    </tr>\n",
       "    <tr>\n",
       "      <th>K/9</th>\n",
       "      <td>float64</td>\n",
       "    </tr>\n",
       "    <tr>\n",
       "      <th>K%</th>\n",
       "      <td>object</td>\n",
       "    </tr>\n",
       "    <tr>\n",
       "      <th>BB/9</th>\n",
       "      <td>float64</td>\n",
       "    </tr>\n",
       "    <tr>\n",
       "      <th>BB%</th>\n",
       "      <td>object</td>\n",
       "    </tr>\n",
       "    <tr>\n",
       "      <th>HR/9</th>\n",
       "      <td>float64</td>\n",
       "    </tr>\n",
       "    <tr>\n",
       "      <th>HR/FB</th>\n",
       "      <td>object</td>\n",
       "    </tr>\n",
       "    <tr>\n",
       "      <th>BABIP</th>\n",
       "      <td>float64</td>\n",
       "    </tr>\n",
       "    <tr>\n",
       "      <th>ERA</th>\n",
       "      <td>float64</td>\n",
       "    </tr>\n",
       "    <tr>\n",
       "      <th>FIP</th>\n",
       "      <td>float64</td>\n",
       "    </tr>\n",
       "    <tr>\n",
       "      <th>xFIP</th>\n",
       "      <td>float64</td>\n",
       "    </tr>\n",
       "    <tr>\n",
       "      <th>ERA-</th>\n",
       "      <td>int64</td>\n",
       "    </tr>\n",
       "    <tr>\n",
       "      <th>FIP-</th>\n",
       "      <td>int64</td>\n",
       "    </tr>\n",
       "    <tr>\n",
       "      <th>xFIP-</th>\n",
       "      <td>float64</td>\n",
       "    </tr>\n",
       "    <tr>\n",
       "      <th>K/9+</th>\n",
       "      <td>int64</td>\n",
       "    </tr>\n",
       "    <tr>\n",
       "      <th>BB/9+</th>\n",
       "      <td>int64</td>\n",
       "    </tr>\n",
       "    <tr>\n",
       "      <th>K/BB+</th>\n",
       "      <td>float64</td>\n",
       "    </tr>\n",
       "    <tr>\n",
       "      <th>WHIP+</th>\n",
       "      <td>int64</td>\n",
       "    </tr>\n",
       "    <tr>\n",
       "      <th>K%+</th>\n",
       "      <td>int64</td>\n",
       "    </tr>\n",
       "    <tr>\n",
       "      <th>BB%+</th>\n",
       "      <td>int64</td>\n",
       "    </tr>\n",
       "    <tr>\n",
       "      <th>WAR</th>\n",
       "      <td>float64</td>\n",
       "    </tr>\n",
       "    <tr>\n",
       "      <th>playerid</th>\n",
       "      <td>int64</td>\n",
       "    </tr>\n",
       "  </tbody>\n",
       "</table>\n",
       "</div>"
      ],
      "text/plain": [
       "         Data Type\n",
       "season       int64\n",
       "name        object\n",
       "team        object\n",
       "W            int64\n",
       "L            int64\n",
       "G            int64\n",
       "GS           int64\n",
       "IP         float64\n",
       "WHIP       float64\n",
       "K/9        float64\n",
       "K%          object\n",
       "BB/9       float64\n",
       "BB%         object\n",
       "HR/9       float64\n",
       "HR/FB       object\n",
       "BABIP      float64\n",
       "ERA        float64\n",
       "FIP        float64\n",
       "xFIP       float64\n",
       "ERA-         int64\n",
       "FIP-         int64\n",
       "xFIP-      float64\n",
       "K/9+         int64\n",
       "BB/9+        int64\n",
       "K/BB+      float64\n",
       "WHIP+        int64\n",
       "K%+          int64\n",
       "BB%+         int64\n",
       "WAR        float64\n",
       "playerid     int64"
      ]
     },
     "execution_count": 6,
     "metadata": {},
     "output_type": "execute_result"
    }
   ],
   "source": [
    "pd.DataFrame(pitch.dtypes, columns= ['Data Type'])"
   ]
  },
  {
   "cell_type": "markdown",
   "id": "7a74088a",
   "metadata": {
    "papermill": {
     "duration": 0.017415,
     "end_time": "2023-03-06T00:00:05.983864",
     "exception": false,
     "start_time": "2023-03-06T00:00:05.966449",
     "status": "completed"
    },
    "tags": []
   },
   "source": [
    "# What is going on with pitching now? \n",
    "\n",
    "## What we know? \n",
    "\n",
    "Pitching now is unlike any other day in time. The average velocity is skyrocketing leading to more strikeouts, pitchers spin rate is higher than ever, and we have some of the best pitchers the world has ever seen. When I was growing up, a pitching staff might have two players throwing in the nineties and only a handful of people were hitting above 94. Nowadays the average pitch speed is around 93 mph. This is not a graph I made but check out the chart below: \n",
    "\n",
    "<img src=\"http://blogs.fangraphs.com/wp-content/uploads/2019/02/league-average-fastball.png\" width=\"400\" height= \"400\"/>\n",
    "\n",
    "From the presentation Fred showed us in class, we know that hitting has taken a downturn other than homeruns. I wanted to see if this means that pitching stats have gotten better, or are all the homeruns counteracting the strikeouts and lack of hits. \n",
    "\n",
    "## Why is baseball the perfect sport for data analysis? \n",
    "\n",
    "Baseball is the best sport for high level stats because there are thousands of data points. In a season there are 162 games and any of these games have hundreds of things you can measure. This includes measurement of things such as ball speed leaving a baseball bat, spin rate leaving the pitchers hand, etc. This type of data is what they are calling sabermetrics. If you have seen moneyball, you know that this is originated by a man named Bill James. This type of thinking and data structuring is being used by every team that wishes to compete in the mlb (with a few exceptions of very poorly run organizations). This gives me a prime opportunity to measure data and determine how this increase in pitch quality has impacted the game. \n",
    "\n",
    "\n",
    "\n",
    "## Main Questions\n",
    "* Does the data support that these stats have gotten better over time?  \n",
    "* What does the bell curve look like for different stats such as  WHIP and FIP depending on different periods? \n",
    "* How has the decrease of innings pitched effected overal WAR?\n",
    "* What does K/9 show in terms of change over time? \n",
    "\n"
   ]
  },
  {
   "cell_type": "markdown",
   "id": "1d29efd8",
   "metadata": {
    "papermill": {
     "duration": 0.015849,
     "end_time": "2023-03-06T00:00:06.015996",
     "exception": false,
     "start_time": "2023-03-06T00:00:06.000147",
     "status": "completed"
    },
    "tags": []
   },
   "source": [
    "# Data Cleanup \n",
    "\n",
    "The data is pretty clean. There are really not many nulls and the data types are mostly intigers and floats. The nulls that do exist are luckily stats that I do not need. Another good thing is I do not even have to change the date as Season is alreadty an integer and only one number. The main thing I need to change is seasons to ascending order for my sanity, and need to periodically change the index to season so I can show the lineage in time in a line chart. \n",
    "\n",
    "I will also need to group the data into timeframes that make sense. This is something I will go over later"
   ]
  },
  {
   "cell_type": "markdown",
   "id": "a00027a3",
   "metadata": {
    "papermill": {
     "duration": 0.015995,
     "end_time": "2023-03-06T00:00:06.050765",
     "exception": false,
     "start_time": "2023-03-06T00:00:06.034770",
     "status": "completed"
    },
    "tags": []
   },
   "source": [
    "## Where are the nulls? "
   ]
  },
  {
   "cell_type": "code",
   "execution_count": 7,
   "id": "2da3ec0b",
   "metadata": {
    "execution": {
     "iopub.execute_input": "2023-03-06T00:00:06.084885Z",
     "iopub.status.busy": "2023-03-06T00:00:06.084541Z",
     "iopub.status.idle": "2023-03-06T00:00:06.100053Z",
     "shell.execute_reply": "2023-03-06T00:00:06.099082Z"
    },
    "papermill": {
     "duration": 0.034798,
     "end_time": "2023-03-06T00:00:06.101933",
     "exception": false,
     "start_time": "2023-03-06T00:00:06.067135",
     "status": "completed"
    },
    "tags": []
   },
   "outputs": [
    {
     "data": {
      "text/html": [
       "<div>\n",
       "<style scoped>\n",
       "    .dataframe tbody tr th:only-of-type {\n",
       "        vertical-align: middle;\n",
       "    }\n",
       "\n",
       "    .dataframe tbody tr th {\n",
       "        vertical-align: top;\n",
       "    }\n",
       "\n",
       "    .dataframe thead th {\n",
       "        text-align: right;\n",
       "    }\n",
       "</style>\n",
       "<table border=\"1\" class=\"dataframe\">\n",
       "  <thead>\n",
       "    <tr style=\"text-align: right;\">\n",
       "      <th></th>\n",
       "      <th>Count of Nulls</th>\n",
       "    </tr>\n",
       "    <tr>\n",
       "      <th>Column Name</th>\n",
       "      <th></th>\n",
       "    </tr>\n",
       "  </thead>\n",
       "  <tbody>\n",
       "    <tr>\n",
       "      <th>HR/FB</th>\n",
       "      <td>3930</td>\n",
       "    </tr>\n",
       "    <tr>\n",
       "      <th>xFIP</th>\n",
       "      <td>3930</td>\n",
       "    </tr>\n",
       "    <tr>\n",
       "      <th>xFIP-</th>\n",
       "      <td>3930</td>\n",
       "    </tr>\n",
       "    <tr>\n",
       "      <th>K/BB+</th>\n",
       "      <td>1</td>\n",
       "    </tr>\n",
       "  </tbody>\n",
       "</table>\n",
       "</div>"
      ],
      "text/plain": [
       "             Count of Nulls\n",
       "Column Name                \n",
       "HR/FB                  3930\n",
       "xFIP                   3930\n",
       "xFIP-                  3930\n",
       "K/BB+                     1"
      ]
     },
     "execution_count": 7,
     "metadata": {},
     "output_type": "execute_result"
    }
   ],
   "source": [
    "null_df = pd.DataFrame(pitch.isnull().sum(), columns=['Count of Nulls'])\n",
    "null_df.index.name = 'Column Name'\n",
    "null_df[ null_df['Count of Nulls'] > 0 ].sort_values('Count of Nulls', ascending=False)"
   ]
  },
  {
   "cell_type": "markdown",
   "id": "3ce5b4a7",
   "metadata": {
    "papermill": {
     "duration": 0.01648,
     "end_time": "2023-03-06T00:00:06.135553",
     "exception": false,
     "start_time": "2023-03-06T00:00:06.119073",
     "status": "completed"
    },
    "tags": []
   },
   "source": [
    "### This is very lucky. These stats are advanced stats that might not have been available for people in the older years, hence the nulls. Because these stats are too complicated to explain and break out in a 5 minute presentation I do not need them. Might as well keep them in for posterity."
   ]
  },
  {
   "cell_type": "markdown",
   "id": "a9c78f23",
   "metadata": {
    "papermill": {
     "duration": 0.01608,
     "end_time": "2023-03-06T00:00:06.168050",
     "exception": false,
     "start_time": "2023-03-06T00:00:06.151970",
     "status": "completed"
    },
    "tags": []
   },
   "source": [
    "## I now, for ease of use, want to sort all the seasons in ascending order. "
   ]
  },
  {
   "cell_type": "code",
   "execution_count": 8,
   "id": "fd22f51d",
   "metadata": {
    "execution": {
     "iopub.execute_input": "2023-03-06T00:00:06.203175Z",
     "iopub.status.busy": "2023-03-06T00:00:06.202498Z",
     "iopub.status.idle": "2023-03-06T00:00:06.224713Z",
     "shell.execute_reply": "2023-03-06T00:00:06.223824Z"
    },
    "papermill": {
     "duration": 0.041894,
     "end_time": "2023-03-06T00:00:06.226604",
     "exception": false,
     "start_time": "2023-03-06T00:00:06.184710",
     "status": "completed"
    },
    "tags": []
   },
   "outputs": [
    {
     "data": {
      "text/html": [
       "<div>\n",
       "<style scoped>\n",
       "    .dataframe tbody tr th:only-of-type {\n",
       "        vertical-align: middle;\n",
       "    }\n",
       "\n",
       "    .dataframe tbody tr th {\n",
       "        vertical-align: top;\n",
       "    }\n",
       "\n",
       "    .dataframe thead th {\n",
       "        text-align: right;\n",
       "    }\n",
       "</style>\n",
       "<table border=\"1\" class=\"dataframe\">\n",
       "  <thead>\n",
       "    <tr style=\"text-align: right;\">\n",
       "      <th></th>\n",
       "      <th>season</th>\n",
       "      <th>name</th>\n",
       "      <th>team</th>\n",
       "      <th>W</th>\n",
       "      <th>L</th>\n",
       "      <th>G</th>\n",
       "      <th>GS</th>\n",
       "      <th>IP</th>\n",
       "      <th>WHIP</th>\n",
       "      <th>K/9</th>\n",
       "      <th>...</th>\n",
       "      <th>FIP-</th>\n",
       "      <th>xFIP-</th>\n",
       "      <th>K/9+</th>\n",
       "      <th>BB/9+</th>\n",
       "      <th>K/BB+</th>\n",
       "      <th>WHIP+</th>\n",
       "      <th>K%+</th>\n",
       "      <th>BB%+</th>\n",
       "      <th>WAR</th>\n",
       "      <th>playerid</th>\n",
       "    </tr>\n",
       "  </thead>\n",
       "  <tbody>\n",
       "    <tr>\n",
       "      <th>4356</th>\n",
       "      <td>1947</td>\n",
       "      <td>Dave Koslo</td>\n",
       "      <td>Giants</td>\n",
       "      <td>15</td>\n",
       "      <td>10</td>\n",
       "      <td>39</td>\n",
       "      <td>31</td>\n",
       "      <td>217.1</td>\n",
       "      <td>1.40</td>\n",
       "      <td>3.56</td>\n",
       "      <td>...</td>\n",
       "      <td>105</td>\n",
       "      <td>NaN</td>\n",
       "      <td>96</td>\n",
       "      <td>93</td>\n",
       "      <td>104.0</td>\n",
       "      <td>98</td>\n",
       "      <td>94</td>\n",
       "      <td>91</td>\n",
       "      <td>2.0</td>\n",
       "      <td>1007118</td>\n",
       "    </tr>\n",
       "    <tr>\n",
       "      <th>2553</th>\n",
       "      <td>1947</td>\n",
       "      <td>Joe Hatten</td>\n",
       "      <td>Dodgers</td>\n",
       "      <td>17</td>\n",
       "      <td>8</td>\n",
       "      <td>42</td>\n",
       "      <td>32</td>\n",
       "      <td>225.1</td>\n",
       "      <td>1.40</td>\n",
       "      <td>3.04</td>\n",
       "      <td>...</td>\n",
       "      <td>95</td>\n",
       "      <td>NaN</td>\n",
       "      <td>82</td>\n",
       "      <td>114</td>\n",
       "      <td>72.0</td>\n",
       "      <td>98</td>\n",
       "      <td>83</td>\n",
       "      <td>115</td>\n",
       "      <td>3.1</td>\n",
       "      <td>1005495</td>\n",
       "    </tr>\n",
       "    <tr>\n",
       "      <th>2137</th>\n",
       "      <td>1947</td>\n",
       "      <td>Sam Zoldak</td>\n",
       "      <td>Browns</td>\n",
       "      <td>9</td>\n",
       "      <td>10</td>\n",
       "      <td>35</td>\n",
       "      <td>19</td>\n",
       "      <td>171.0</td>\n",
       "      <td>1.39</td>\n",
       "      <td>1.89</td>\n",
       "      <td>...</td>\n",
       "      <td>99</td>\n",
       "      <td>NaN</td>\n",
       "      <td>50</td>\n",
       "      <td>104</td>\n",
       "      <td>49.0</td>\n",
       "      <td>100</td>\n",
       "      <td>51</td>\n",
       "      <td>105</td>\n",
       "      <td>1.9</td>\n",
       "      <td>1014458</td>\n",
       "    </tr>\n",
       "    <tr>\n",
       "      <th>1138</th>\n",
       "      <td>1947</td>\n",
       "      <td>Spec Shea</td>\n",
       "      <td>Yankees</td>\n",
       "      <td>14</td>\n",
       "      <td>5</td>\n",
       "      <td>27</td>\n",
       "      <td>23</td>\n",
       "      <td>178.2</td>\n",
       "      <td>1.21</td>\n",
       "      <td>4.48</td>\n",
       "      <td>...</td>\n",
       "      <td>101</td>\n",
       "      <td>NaN</td>\n",
       "      <td>119</td>\n",
       "      <td>116</td>\n",
       "      <td>102.0</td>\n",
       "      <td>86</td>\n",
       "      <td>125</td>\n",
       "      <td>122</td>\n",
       "      <td>1.9</td>\n",
       "      <td>1011841</td>\n",
       "    </tr>\n",
       "  </tbody>\n",
       "</table>\n",
       "<p>4 rows × 30 columns</p>\n",
       "</div>"
      ],
      "text/plain": [
       "      season        name     team   W   L   G  GS     IP  WHIP   K/9  ...  \\\n",
       "4356    1947  Dave Koslo   Giants  15  10  39  31  217.1  1.40  3.56  ...   \n",
       "2553    1947  Joe Hatten  Dodgers  17   8  42  32  225.1  1.40  3.04  ...   \n",
       "2137    1947  Sam Zoldak   Browns   9  10  35  19  171.0  1.39  1.89  ...   \n",
       "1138    1947   Spec Shea  Yankees  14   5  27  23  178.2  1.21  4.48  ...   \n",
       "\n",
       "     FIP-  xFIP- K/9+  BB/9+  K/BB+  WHIP+  K%+  BB%+  WAR  playerid  \n",
       "4356  105    NaN   96     93  104.0     98   94    91  2.0   1007118  \n",
       "2553   95    NaN   82    114   72.0     98   83   115  3.1   1005495  \n",
       "2137   99    NaN   50    104   49.0    100   51   105  1.9   1014458  \n",
       "1138  101    NaN  119    116  102.0     86  125   122  1.9   1011841  \n",
       "\n",
       "[4 rows x 30 columns]"
      ]
     },
     "execution_count": 8,
     "metadata": {},
     "output_type": "execute_result"
    }
   ],
   "source": [
    "pitch.sort_values('season', inplace = True)\n",
    "pitch.head(4)"
   ]
  },
  {
   "cell_type": "code",
   "execution_count": 9,
   "id": "074ba3e1",
   "metadata": {
    "execution": {
     "iopub.execute_input": "2023-03-06T00:00:06.262166Z",
     "iopub.status.busy": "2023-03-06T00:00:06.261349Z",
     "iopub.status.idle": "2023-03-06T00:00:06.268278Z",
     "shell.execute_reply": "2023-03-06T00:00:06.267647Z"
    },
    "papermill": {
     "duration": 0.026377,
     "end_time": "2023-03-06T00:00:06.269937",
     "exception": false,
     "start_time": "2023-03-06T00:00:06.243560",
     "status": "completed"
    },
    "tags": []
   },
   "outputs": [
    {
     "data": {
      "text/plain": [
       "<bound method NDFrame._add_numeric_operations.<locals>.mean of 4356    1.40\n",
       "2553    1.40\n",
       "2137    1.39\n",
       "1138    1.21\n",
       "1131    1.29\n",
       "        ... \n",
       "983     1.00\n",
       "723     0.83\n",
       "670     1.00\n",
       "5341    1.31\n",
       "5413    1.91\n",
       "Name: WHIP, Length: 5414, dtype: float64>"
      ]
     },
     "execution_count": 9,
     "metadata": {},
     "output_type": "execute_result"
    }
   ],
   "source": [
    "pitch['WHIP'].mean"
   ]
  },
  {
   "cell_type": "markdown",
   "id": "b3cbadcd",
   "metadata": {
    "papermill": {
     "duration": 0.01605,
     "end_time": "2023-03-06T00:00:06.302685",
     "exception": false,
     "start_time": "2023-03-06T00:00:06.286635",
     "status": "completed"
    },
    "tags": []
   },
   "source": [
    "# Data Grouping \n",
    "\n",
    "I need to group the data into different ages so I can effectively compare the different eras of pitching. In order to do this, I have to find specific periods of time that make sense. What I will do is use two different stats to measure pitching effectiveness. I do not have time or have the stats Phd to explain why these two are the best measurements for pitching quality, but there is almost a consensus that WHIP and FIP are among the two best measurements. I will use them and a mix of history to decide how to break up the years. \n"
   ]
  },
  {
   "cell_type": "markdown",
   "id": "d76312f3",
   "metadata": {
    "papermill": {
     "duration": 0.016434,
     "end_time": "2023-03-06T00:00:06.335430",
     "exception": false,
     "start_time": "2023-03-06T00:00:06.318996",
     "status": "completed"
    },
    "tags": []
   },
   "source": [
    "## I will start out by doing a scatter plot then do a line chart to see if either have a sign of change in year."
   ]
  },
  {
   "cell_type": "code",
   "execution_count": 10,
   "id": "3b3a83bb",
   "metadata": {
    "execution": {
     "iopub.execute_input": "2023-03-06T00:00:06.370277Z",
     "iopub.status.busy": "2023-03-06T00:00:06.369755Z",
     "iopub.status.idle": "2023-03-06T00:00:06.375371Z",
     "shell.execute_reply": "2023-03-06T00:00:06.374743Z"
    },
    "papermill": {
     "duration": 0.025129,
     "end_time": "2023-03-06T00:00:06.377192",
     "exception": false,
     "start_time": "2023-03-06T00:00:06.352063",
     "status": "completed"
    },
    "tags": []
   },
   "outputs": [],
   "source": [
    "pitch.sort_values('season', inplace = True)"
   ]
  },
  {
   "cell_type": "code",
   "execution_count": 11,
   "id": "12d290af",
   "metadata": {
    "execution": {
     "iopub.execute_input": "2023-03-06T00:00:06.413064Z",
     "iopub.status.busy": "2023-03-06T00:00:06.412514Z",
     "iopub.status.idle": "2023-03-06T00:00:06.685562Z",
     "shell.execute_reply": "2023-03-06T00:00:06.684708Z"
    },
    "papermill": {
     "duration": 0.293471,
     "end_time": "2023-03-06T00:00:06.687623",
     "exception": false,
     "start_time": "2023-03-06T00:00:06.394152",
     "status": "completed"
    },
    "tags": []
   },
   "outputs": [
    {
     "data": {
      "image/png": "[encoded data removed]",
      "text/plain": [
       "<Figure size 1300x800 with 1 Axes>"
      ]
     },
     "metadata": {},
     "output_type": "display_data"
    }
   ],
   "source": [
    "pitch.plot(kind='scatter', x='season', y='WHIP', figsize=(13,8), s=2, c= 'red');"
   ]
  },
  {
   "cell_type": "markdown",
   "id": "30c30a6f",
   "metadata": {
    "papermill": {
     "duration": 0.017098,
     "end_time": "2023-03-06T00:00:06.722052",
     "exception": false,
     "start_time": "2023-03-06T00:00:06.704954",
     "status": "completed"
    },
    "tags": []
   },
   "source": [
    "## In order to do a line chart I need to set season as the index"
   ]
  },
  {
   "cell_type": "code",
   "execution_count": 12,
   "id": "2abdb33d",
   "metadata": {
    "execution": {
     "iopub.execute_input": "2023-03-06T00:00:06.758775Z",
     "iopub.status.busy": "2023-03-06T00:00:06.758235Z",
     "iopub.status.idle": "2023-03-06T00:00:06.792731Z",
     "shell.execute_reply": "2023-03-06T00:00:06.791868Z"
    },
    "papermill": {
     "duration": 0.055312,
     "end_time": "2023-03-06T00:00:06.794401",
     "exception": false,
     "start_time": "2023-03-06T00:00:06.739089",
     "status": "completed"
    },
    "tags": []
   },
   "outputs": [
    {
     "data": {
      "text/html": [
       "<div>\n",
       "<style scoped>\n",
       "    .dataframe tbody tr th:only-of-type {\n",
       "        vertical-align: middle;\n",
       "    }\n",
       "\n",
       "    .dataframe tbody tr th {\n",
       "        vertical-align: top;\n",
       "    }\n",
       "\n",
       "    .dataframe thead th {\n",
       "        text-align: right;\n",
       "    }\n",
       "</style>\n",
       "<table border=\"1\" class=\"dataframe\">\n",
       "  <thead>\n",
       "    <tr style=\"text-align: right;\">\n",
       "      <th></th>\n",
       "      <th>name</th>\n",
       "      <th>team</th>\n",
       "      <th>W</th>\n",
       "      <th>L</th>\n",
       "      <th>G</th>\n",
       "      <th>GS</th>\n",
       "      <th>IP</th>\n",
       "      <th>WHIP</th>\n",
       "      <th>K/9</th>\n",
       "      <th>K%</th>\n",
       "      <th>...</th>\n",
       "      <th>FIP-</th>\n",
       "      <th>xFIP-</th>\n",
       "      <th>K/9+</th>\n",
       "      <th>BB/9+</th>\n",
       "      <th>K/BB+</th>\n",
       "      <th>WHIP+</th>\n",
       "      <th>K%+</th>\n",
       "      <th>BB%+</th>\n",
       "      <th>WAR</th>\n",
       "      <th>playerid</th>\n",
       "    </tr>\n",
       "    <tr>\n",
       "      <th>season</th>\n",
       "      <th></th>\n",
       "      <th></th>\n",
       "      <th></th>\n",
       "      <th></th>\n",
       "      <th></th>\n",
       "      <th></th>\n",
       "      <th></th>\n",
       "      <th></th>\n",
       "      <th></th>\n",
       "      <th></th>\n",
       "      <th></th>\n",
       "      <th></th>\n",
       "      <th></th>\n",
       "      <th></th>\n",
       "      <th></th>\n",
       "      <th></th>\n",
       "      <th></th>\n",
       "      <th></th>\n",
       "      <th></th>\n",
       "      <th></th>\n",
       "      <th></th>\n",
       "    </tr>\n",
       "  </thead>\n",
       "  <tbody>\n",
       "    <tr>\n",
       "      <th>2020</th>\n",
       "      <td>Lance Lynn</td>\n",
       "      <td>Rangers</td>\n",
       "      <td>1</td>\n",
       "      <td>0</td>\n",
       "      <td>3</td>\n",
       "      <td>3</td>\n",
       "      <td>18.1</td>\n",
       "      <td>0.82</td>\n",
       "      <td>11.78</td>\n",
       "      <td>34.8%</td>\n",
       "      <td>...</td>\n",
       "      <td>59</td>\n",
       "      <td>86.0</td>\n",
       "      <td>132</td>\n",
       "      <td>121</td>\n",
       "      <td>109.0</td>\n",
       "      <td>64</td>\n",
       "      <td>149</td>\n",
       "      <td>136</td>\n",
       "      <td>0.7</td>\n",
       "      <td>2520</td>\n",
       "    </tr>\n",
       "    <tr>\n",
       "      <th>2020</th>\n",
       "      <td>Randy Dobnak</td>\n",
       "      <td>Twins</td>\n",
       "      <td>2</td>\n",
       "      <td>1</td>\n",
       "      <td>3</td>\n",
       "      <td>3</td>\n",
       "      <td>15.0</td>\n",
       "      <td>0.87</td>\n",
       "      <td>4.80</td>\n",
       "      <td>14.3%</td>\n",
       "      <td>...</td>\n",
       "      <td>65</td>\n",
       "      <td>87.0</td>\n",
       "      <td>54</td>\n",
       "      <td>65</td>\n",
       "      <td>82.0</td>\n",
       "      <td>68</td>\n",
       "      <td>61</td>\n",
       "      <td>75</td>\n",
       "      <td>0.4</td>\n",
       "      <td>23798</td>\n",
       "    </tr>\n",
       "    <tr>\n",
       "      <th>2020</th>\n",
       "      <td>Adrian Houser</td>\n",
       "      <td>Brewers</td>\n",
       "      <td>1</td>\n",
       "      <td>0</td>\n",
       "      <td>2</td>\n",
       "      <td>2</td>\n",
       "      <td>12.0</td>\n",
       "      <td>0.92</td>\n",
       "      <td>6.75</td>\n",
       "      <td>21.4%</td>\n",
       "      <td>...</td>\n",
       "      <td>96</td>\n",
       "      <td>89.0</td>\n",
       "      <td>74</td>\n",
       "      <td>111</td>\n",
       "      <td>67.0</td>\n",
       "      <td>74</td>\n",
       "      <td>89</td>\n",
       "      <td>133</td>\n",
       "      <td>0.1</td>\n",
       "      <td>12718</td>\n",
       "    </tr>\n",
       "  </tbody>\n",
       "</table>\n",
       "<p>3 rows × 29 columns</p>\n",
       "</div>"
      ],
      "text/plain": [
       "                 name     team  W  L  G  GS    IP  WHIP    K/9     K%  ...  \\\n",
       "season                                                                 ...   \n",
       "2020       Lance Lynn  Rangers  1  0  3   3  18.1  0.82  11.78  34.8%  ...   \n",
       "2020     Randy Dobnak    Twins  2  1  3   3  15.0  0.87   4.80  14.3%  ...   \n",
       "2020    Adrian Houser  Brewers  1  0  2   2  12.0  0.92   6.75  21.4%  ...   \n",
       "\n",
       "        FIP- xFIP-  K/9+ BB/9+  K/BB+  WHIP+  K%+  BB%+  WAR  playerid  \n",
       "season                                                                  \n",
       "2020      59  86.0   132   121  109.0     64  149   136  0.7      2520  \n",
       "2020      65  87.0    54    65   82.0     68   61    75  0.4     23798  \n",
       "2020      96  89.0    74   111   67.0     74   89   133  0.1     12718  \n",
       "\n",
       "[3 rows x 29 columns]"
      ]
     },
     "execution_count": 12,
     "metadata": {},
     "output_type": "execute_result"
    }
   ],
   "source": [
    "pitch_1 = import_pitch()\n",
    "pitch_1.set_index('season', inplace=True)\n",
    "pitch_1.head(3)"
   ]
  },
  {
   "cell_type": "code",
   "execution_count": 13,
   "id": "27a55f74",
   "metadata": {
    "execution": {
     "iopub.execute_input": "2023-03-06T00:00:06.830318Z",
     "iopub.status.busy": "2023-03-06T00:00:06.829979Z",
     "iopub.status.idle": "2023-03-06T00:00:06.851326Z",
     "shell.execute_reply": "2023-03-06T00:00:06.850704Z"
    },
    "papermill": {
     "duration": 0.041389,
     "end_time": "2023-03-06T00:00:06.853097",
     "exception": false,
     "start_time": "2023-03-06T00:00:06.811708",
     "status": "completed"
    },
    "tags": []
   },
   "outputs": [
    {
     "data": {
      "text/html": [
       "<div>\n",
       "<style scoped>\n",
       "    .dataframe tbody tr th:only-of-type {\n",
       "        vertical-align: middle;\n",
       "    }\n",
       "\n",
       "    .dataframe tbody tr th {\n",
       "        vertical-align: top;\n",
       "    }\n",
       "\n",
       "    .dataframe thead th {\n",
       "        text-align: right;\n",
       "    }\n",
       "</style>\n",
       "<table border=\"1\" class=\"dataframe\">\n",
       "  <thead>\n",
       "    <tr style=\"text-align: right;\">\n",
       "      <th></th>\n",
       "      <th>season</th>\n",
       "      <th>name</th>\n",
       "      <th>team</th>\n",
       "      <th>W</th>\n",
       "      <th>L</th>\n",
       "      <th>G</th>\n",
       "      <th>GS</th>\n",
       "      <th>IP</th>\n",
       "      <th>WHIP</th>\n",
       "      <th>K/9</th>\n",
       "      <th>...</th>\n",
       "      <th>FIP-</th>\n",
       "      <th>xFIP-</th>\n",
       "      <th>K/9+</th>\n",
       "      <th>BB/9+</th>\n",
       "      <th>K/BB+</th>\n",
       "      <th>WHIP+</th>\n",
       "      <th>K%+</th>\n",
       "      <th>BB%+</th>\n",
       "      <th>WAR</th>\n",
       "      <th>playerid</th>\n",
       "    </tr>\n",
       "  </thead>\n",
       "  <tbody>\n",
       "    <tr>\n",
       "      <th>4356</th>\n",
       "      <td>1947</td>\n",
       "      <td>Dave Koslo</td>\n",
       "      <td>Giants</td>\n",
       "      <td>15</td>\n",
       "      <td>10</td>\n",
       "      <td>39</td>\n",
       "      <td>31</td>\n",
       "      <td>217.1</td>\n",
       "      <td>1.40</td>\n",
       "      <td>3.56</td>\n",
       "      <td>...</td>\n",
       "      <td>105</td>\n",
       "      <td>NaN</td>\n",
       "      <td>96</td>\n",
       "      <td>93</td>\n",
       "      <td>104.0</td>\n",
       "      <td>98</td>\n",
       "      <td>94</td>\n",
       "      <td>91</td>\n",
       "      <td>2.0</td>\n",
       "      <td>1007118</td>\n",
       "    </tr>\n",
       "    <tr>\n",
       "      <th>1739</th>\n",
       "      <td>1947</td>\n",
       "      <td>Bill McCahan</td>\n",
       "      <td>Athletics</td>\n",
       "      <td>10</td>\n",
       "      <td>5</td>\n",
       "      <td>29</td>\n",
       "      <td>19</td>\n",
       "      <td>165.1</td>\n",
       "      <td>1.34</td>\n",
       "      <td>2.56</td>\n",
       "      <td>...</td>\n",
       "      <td>95</td>\n",
       "      <td>NaN</td>\n",
       "      <td>68</td>\n",
       "      <td>88</td>\n",
       "      <td>78.0</td>\n",
       "      <td>96</td>\n",
       "      <td>69</td>\n",
       "      <td>88</td>\n",
       "      <td>2.1</td>\n",
       "      <td>1008355</td>\n",
       "    </tr>\n",
       "    <tr>\n",
       "      <th>4233</th>\n",
       "      <td>1947</td>\n",
       "      <td>Joe Coleman</td>\n",
       "      <td>Athletics</td>\n",
       "      <td>6</td>\n",
       "      <td>12</td>\n",
       "      <td>32</td>\n",
       "      <td>21</td>\n",
       "      <td>160.1</td>\n",
       "      <td>1.45</td>\n",
       "      <td>3.65</td>\n",
       "      <td>...</td>\n",
       "      <td>112</td>\n",
       "      <td>NaN</td>\n",
       "      <td>97</td>\n",
       "      <td>90</td>\n",
       "      <td>107.0</td>\n",
       "      <td>104</td>\n",
       "      <td>97</td>\n",
       "      <td>90</td>\n",
       "      <td>0.9</td>\n",
       "      <td>1002427</td>\n",
       "    </tr>\n",
       "    <tr>\n",
       "      <th>4235</th>\n",
       "      <td>1947</td>\n",
       "      <td>Schoolboy Rowe</td>\n",
       "      <td>Phillies</td>\n",
       "      <td>14</td>\n",
       "      <td>10</td>\n",
       "      <td>31</td>\n",
       "      <td>28</td>\n",
       "      <td>195.2</td>\n",
       "      <td>1.42</td>\n",
       "      <td>3.40</td>\n",
       "      <td>...</td>\n",
       "      <td>100</td>\n",
       "      <td>NaN</td>\n",
       "      <td>92</td>\n",
       "      <td>57</td>\n",
       "      <td>163.0</td>\n",
       "      <td>99</td>\n",
       "      <td>91</td>\n",
       "      <td>56</td>\n",
       "      <td>2.2</td>\n",
       "      <td>1011259</td>\n",
       "    </tr>\n",
       "  </tbody>\n",
       "</table>\n",
       "<p>4 rows × 30 columns</p>\n",
       "</div>"
      ],
      "text/plain": [
       "      season            name       team   W   L   G  GS     IP  WHIP   K/9  \\\n",
       "4356    1947      Dave Koslo     Giants  15  10  39  31  217.1  1.40  3.56   \n",
       "1739    1947    Bill McCahan  Athletics  10   5  29  19  165.1  1.34  2.56   \n",
       "4233    1947     Joe Coleman  Athletics   6  12  32  21  160.1  1.45  3.65   \n",
       "4235    1947  Schoolboy Rowe   Phillies  14  10  31  28  195.2  1.42  3.40   \n",
       "\n",
       "      ... FIP-  xFIP- K/9+  BB/9+  K/BB+  WHIP+  K%+  BB%+  WAR  playerid  \n",
       "4356  ...  105    NaN   96     93  104.0     98   94    91  2.0   1007118  \n",
       "1739  ...   95    NaN   68     88   78.0     96   69    88  2.1   1008355  \n",
       "4233  ...  112    NaN   97     90  107.0    104   97    90  0.9   1002427  \n",
       "4235  ...  100    NaN   92     57  163.0     99   91    56  2.2   1011259  \n",
       "\n",
       "[4 rows x 30 columns]"
      ]
     },
     "execution_count": 13,
     "metadata": {},
     "output_type": "execute_result"
    }
   ],
   "source": [
    "pitch_1.sort_values('season', inplace = True)\n",
    "pitch.head(4)"
   ]
  },
  {
   "cell_type": "code",
   "execution_count": 14,
   "id": "9bb44374",
   "metadata": {
    "execution": {
     "iopub.execute_input": "2023-03-06T00:00:06.890206Z",
     "iopub.status.busy": "2023-03-06T00:00:06.889566Z",
     "iopub.status.idle": "2023-03-06T00:00:07.069286Z",
     "shell.execute_reply": "2023-03-06T00:00:07.068200Z"
    },
    "papermill": {
     "duration": 0.201126,
     "end_time": "2023-03-06T00:00:07.071982",
     "exception": false,
     "start_time": "2023-03-06T00:00:06.870856",
     "status": "completed"
    },
    "tags": []
   },
   "outputs": [
    {
     "data": {
      "image/png": "[encoded data removed]",
      "text/plain": [
       "<Figure size 640x480 with 1 Axes>"
      ]
     },
     "metadata": {},
     "output_type": "display_data"
    }
   ],
   "source": [
    "pitch_1['WHIP'].plot()\n",
    "plt.xlabel('Season')\n",
    "plt.ylabel('WHIP')\n",
    "plt.title('WHIP by Season');"
   ]
  },
  {
   "cell_type": "markdown",
   "id": "78ad43f9",
   "metadata": {
    "papermill": {
     "duration": 0.017658,
     "end_time": "2023-03-06T00:00:07.107891",
     "exception": false,
     "start_time": "2023-03-06T00:00:07.090233",
     "status": "completed"
    },
    "tags": []
   },
   "source": [
    "## I want to see how correlated this chart actually is. Even though there is a clear downward look if you just look at the best pitchers each year, this really doesn't do much. For that, I have the nifty salesmodels api! "
   ]
  },
  {
   "cell_type": "code",
   "execution_count": 15,
   "id": "25a7ea9a",
   "metadata": {
    "execution": {
     "iopub.execute_input": "2023-03-06T00:00:07.145179Z",
     "iopub.status.busy": "2023-03-06T00:00:07.144830Z",
     "iopub.status.idle": "2023-03-06T00:00:07.149355Z",
     "shell.execute_reply": "2023-03-06T00:00:07.148524Z"
    },
    "papermill": {
     "duration": 0.025797,
     "end_time": "2023-03-06T00:00:07.151656",
     "exception": false,
     "start_time": "2023-03-06T00:00:07.125859",
     "status": "completed"
    },
    "tags": []
   },
   "outputs": [],
   "source": [
    "x = pitch['season']\n",
    "y = pitch['WHIP']"
   ]
  },
  {
   "cell_type": "code",
   "execution_count": 16,
   "id": "9c59b5ad",
   "metadata": {
    "execution": {
     "iopub.execute_input": "2023-03-06T00:00:07.190253Z",
     "iopub.status.busy": "2023-03-06T00:00:07.189924Z",
     "iopub.status.idle": "2023-03-06T00:00:07.217703Z",
     "shell.execute_reply": "2023-03-06T00:00:07.216053Z"
    },
    "papermill": {
     "duration": 0.05165,
     "end_time": "2023-03-06T00:00:07.222132",
     "exception": false,
     "start_time": "2023-03-06T00:00:07.170482",
     "status": "completed"
    },
    "tags": []
   },
   "outputs": [
    {
     "name": "stdout",
     "output_type": "stream",
     "text": [
      "                            OLS Regression Results                            \n",
      "==============================================================================\n",
      "Dep. Variable:                   WHIP   R-squared:                       0.005\n",
      "Model:                            OLS   Adj. R-squared:                  0.005\n",
      "Method:                 Least Squares   F-statistic:                     29.00\n",
      "Date:                Mon, 06 Mar 2023   Prob (F-statistic):           7.52e-08\n",
      "Time:                        00:00:07   Log-Likelihood:                 2679.4\n",
      "No. Observations:                5414   AIC:                            -5355.\n",
      "Df Residuals:                    5412   BIC:                            -5342.\n",
      "Df Model:                           1                                         \n",
      "Covariance Type:            nonrobust                                         \n",
      "==============================================================================\n",
      "                 coef    std err          t      P>|t|      [0.025      0.975]\n",
      "------------------------------------------------------------------------------\n",
      "const          2.3347      0.194     12.012      0.000       1.954       2.716\n",
      "season        -0.0005   9.79e-05     -5.386      0.000      -0.001      -0.000\n",
      "==============================================================================\n",
      "Omnibus:                       35.281   Durbin-Watson:                   1.678\n",
      "Prob(Omnibus):                  0.000   Jarque-Bera (JB):               48.991\n",
      "Skew:                          -0.069   Prob(JB):                     2.30e-11\n",
      "Kurtosis:                       3.445   Cond. No.                     1.92e+05\n",
      "==============================================================================\n",
      "\n",
      "Notes:\n",
      "[1] Standard Errors assume that the covariance matrix of the errors is correctly specified.\n",
      "[2] The condition number is large, 1.92e+05. This might indicate that there are\n",
      "strong multicollinearity or other numerical problems.\n"
     ]
    }
   ],
   "source": [
    "x = sm.add_constant(x)\n",
    "model = sm.OLS(y, x).fit()\n",
    "print(model.summary())"
   ]
  },
  {
   "cell_type": "markdown",
   "id": "f5d205ac",
   "metadata": {
    "papermill": {
     "duration": 0.023581,
     "end_time": "2023-03-06T00:00:07.271521",
     "exception": false,
     "start_time": "2023-03-06T00:00:07.247940",
     "status": "completed"
    },
    "tags": []
   },
   "source": [
    "## There does not appear to be much correlation. A perfect R- squared value is 1 and .005 is certainly in the no correlation threshold.  I want to take the data from the best performers, and see if there is a correlation of how many pitchers have a good WHIP. In other words, are the best pitchers progressively getting better. I am predicting so because it does look like it in the data chart. "
   ]
  },
  {
   "cell_type": "markdown",
   "id": "d4b8879c",
   "metadata": {
    "papermill": {
     "duration": 0.027586,
     "end_time": "2023-03-06T00:00:07.323330",
     "exception": false,
     "start_time": "2023-03-06T00:00:07.295744",
     "status": "completed"
    },
    "tags": []
   },
   "source": [
    "### I first need a cutoff point. I will use the means to separate the best pitchers. Remember the lower the WHIP the better the pitcher so I need it to encompass WHIPS less than the mean. "
   ]
  },
  {
   "cell_type": "code",
   "execution_count": 17,
   "id": "59b5bc18",
   "metadata": {
    "execution": {
     "iopub.execute_input": "2023-03-06T00:00:07.364648Z",
     "iopub.status.busy": "2023-03-06T00:00:07.364325Z",
     "iopub.status.idle": "2023-03-06T00:00:07.370237Z",
     "shell.execute_reply": "2023-03-06T00:00:07.369435Z"
    },
    "papermill": {
     "duration": 0.027337,
     "end_time": "2023-03-06T00:00:07.371947",
     "exception": false,
     "start_time": "2023-03-06T00:00:07.344610",
     "status": "completed"
    },
    "tags": []
   },
   "outputs": [
    {
     "data": {
      "text/plain": [
       "1.2879774658293315"
      ]
     },
     "execution_count": 17,
     "metadata": {},
     "output_type": "execute_result"
    }
   ],
   "source": [
    "pitch['WHIP'].mean()"
   ]
  },
  {
   "cell_type": "markdown",
   "id": "25991b0a",
   "metadata": {
    "papermill": {
     "duration": 0.018099,
     "end_time": "2023-03-06T00:00:07.408527",
     "exception": false,
     "start_time": "2023-03-06T00:00:07.390428",
     "status": "completed"
    },
    "tags": []
   },
   "source": [
    "## Now for the function that groups them together. "
   ]
  },
  {
   "cell_type": "code",
   "execution_count": 18,
   "id": "0ea9f28a",
   "metadata": {
    "execution": {
     "iopub.execute_input": "2023-03-06T00:00:07.447623Z",
     "iopub.status.busy": "2023-03-06T00:00:07.446722Z",
     "iopub.status.idle": "2023-03-06T00:00:07.451937Z",
     "shell.execute_reply": "2023-03-06T00:00:07.451183Z"
    },
    "papermill": {
     "duration": 0.026691,
     "end_time": "2023-03-06T00:00:07.453714",
     "exception": false,
     "start_time": "2023-03-06T00:00:07.427023",
     "status": "completed"
    },
    "tags": []
   },
   "outputs": [],
   "source": [
    "def stats_by_year(pitch_data, column_name, year_column_name, threshold):\n",
    "  \n",
    "    # Filter data to include only WHIP values below the threshold\n",
    "    filtered_data = pitch_data[pitch[column_name] < threshold]\n",
    "\n",
    "    # Group the filtered data by year and get the count of WHIP values below the threshold for each year\n",
    "    grouped_data = filtered_data.groupby('season').size().reset_index(name=f\"Count of {column_name} < {threshold}\")\n",
    "\n",
    "    return grouped_data\n"
   ]
  },
  {
   "cell_type": "code",
   "execution_count": 19,
   "id": "fabddb34",
   "metadata": {
    "execution": {
     "iopub.execute_input": "2023-03-06T00:00:07.491873Z",
     "iopub.status.busy": "2023-03-06T00:00:07.491579Z",
     "iopub.status.idle": "2023-03-06T00:00:07.504053Z",
     "shell.execute_reply": "2023-03-06T00:00:07.503165Z"
    },
    "papermill": {
     "duration": 0.033562,
     "end_time": "2023-03-06T00:00:07.505788",
     "exception": false,
     "start_time": "2023-03-06T00:00:07.472226",
     "status": "completed"
    },
    "tags": []
   },
   "outputs": [
    {
     "data": {
      "text/html": [
       "<div>\n",
       "<style scoped>\n",
       "    .dataframe tbody tr th:only-of-type {\n",
       "        vertical-align: middle;\n",
       "    }\n",
       "\n",
       "    .dataframe tbody tr th {\n",
       "        vertical-align: top;\n",
       "    }\n",
       "\n",
       "    .dataframe thead th {\n",
       "        text-align: right;\n",
       "    }\n",
       "</style>\n",
       "<table border=\"1\" class=\"dataframe\">\n",
       "  <thead>\n",
       "    <tr style=\"text-align: right;\">\n",
       "      <th></th>\n",
       "      <th>season</th>\n",
       "      <th>Count of WHIP &lt; 1.3</th>\n",
       "    </tr>\n",
       "  </thead>\n",
       "  <tbody>\n",
       "    <tr>\n",
       "      <th>0</th>\n",
       "      <td>1947</td>\n",
       "      <td>19</td>\n",
       "    </tr>\n",
       "    <tr>\n",
       "      <th>1</th>\n",
       "      <td>1948</td>\n",
       "      <td>16</td>\n",
       "    </tr>\n",
       "    <tr>\n",
       "      <th>2</th>\n",
       "      <td>1949</td>\n",
       "      <td>13</td>\n",
       "    </tr>\n",
       "    <tr>\n",
       "      <th>3</th>\n",
       "      <td>1950</td>\n",
       "      <td>11</td>\n",
       "    </tr>\n",
       "    <tr>\n",
       "      <th>4</th>\n",
       "      <td>1951</td>\n",
       "      <td>17</td>\n",
       "    </tr>\n",
       "    <tr>\n",
       "      <th>...</th>\n",
       "      <td>...</td>\n",
       "      <td>...</td>\n",
       "    </tr>\n",
       "    <tr>\n",
       "      <th>69</th>\n",
       "      <td>2016</td>\n",
       "      <td>44</td>\n",
       "    </tr>\n",
       "    <tr>\n",
       "      <th>70</th>\n",
       "      <td>2017</td>\n",
       "      <td>33</td>\n",
       "    </tr>\n",
       "    <tr>\n",
       "      <th>71</th>\n",
       "      <td>2018</td>\n",
       "      <td>42</td>\n",
       "    </tr>\n",
       "    <tr>\n",
       "      <th>72</th>\n",
       "      <td>2019</td>\n",
       "      <td>38</td>\n",
       "    </tr>\n",
       "    <tr>\n",
       "      <th>73</th>\n",
       "      <td>2020</td>\n",
       "      <td>48</td>\n",
       "    </tr>\n",
       "  </tbody>\n",
       "</table>\n",
       "<p>74 rows × 2 columns</p>\n",
       "</div>"
      ],
      "text/plain": [
       "    season  Count of WHIP < 1.3\n",
       "0     1947                   19\n",
       "1     1948                   16\n",
       "2     1949                   13\n",
       "3     1950                   11\n",
       "4     1951                   17\n",
       "..     ...                  ...\n",
       "69    2016                   44\n",
       "70    2017                   33\n",
       "71    2018                   42\n",
       "72    2019                   38\n",
       "73    2020                   48\n",
       "\n",
       "[74 rows x 2 columns]"
      ]
     },
     "execution_count": 19,
     "metadata": {},
     "output_type": "execute_result"
    }
   ],
   "source": [
    "# Call the get_fips_below_threshold_by_year function to get the count of FIP values below 1.3 by year\n",
    "best_whips = stats_by_year(pitch, \"WHIP\", \"season\", 1.3)\n",
    "\n",
    "\n",
    "\n",
    "# Print the resulting dataframe\n",
    "best_whips\n",
    "\n",
    "\n"
   ]
  },
  {
   "cell_type": "code",
   "execution_count": 20,
   "id": "f0816b45",
   "metadata": {
    "execution": {
     "iopub.execute_input": "2023-03-06T00:00:07.543928Z",
     "iopub.status.busy": "2023-03-06T00:00:07.543623Z",
     "iopub.status.idle": "2023-03-06T00:00:07.752919Z",
     "shell.execute_reply": "2023-03-06T00:00:07.752047Z"
    },
    "papermill": {
     "duration": 0.230628,
     "end_time": "2023-03-06T00:00:07.754758",
     "exception": false,
     "start_time": "2023-03-06T00:00:07.524130",
     "status": "completed"
    },
    "tags": []
   },
   "outputs": [
    {
     "data": {
      "image/png": "[encoded data removed]",
      "text/plain": [
       "<Figure size 1300x800 with 1 Axes>"
      ]
     },
     "metadata": {},
     "output_type": "display_data"
    }
   ],
   "source": [
    "best_whips.plot(kind='scatter', x='season', y='Count of WHIP < 1.3', figsize=(13,8), s=2, c= 'red')\n",
    "plt.title('Best WHIP by Season scatter');"
   ]
  },
  {
   "cell_type": "markdown",
   "id": "7ffd77d7",
   "metadata": {
    "papermill": {
     "duration": 0.018889,
     "end_time": "2023-03-06T00:00:07.792849",
     "exception": false,
     "start_time": "2023-03-06T00:00:07.773960",
     "status": "completed"
    },
    "tags": []
   },
   "source": [
    "## Let's see how this effects the r value."
   ]
  },
  {
   "cell_type": "code",
   "execution_count": 21,
   "id": "9a9a9e6b",
   "metadata": {
    "execution": {
     "iopub.execute_input": "2023-03-06T00:00:07.833350Z",
     "iopub.status.busy": "2023-03-06T00:00:07.832985Z",
     "iopub.status.idle": "2023-03-06T00:00:07.837298Z",
     "shell.execute_reply": "2023-03-06T00:00:07.836636Z"
    },
    "papermill": {
     "duration": 0.026515,
     "end_time": "2023-03-06T00:00:07.839219",
     "exception": false,
     "start_time": "2023-03-06T00:00:07.812704",
     "status": "completed"
    },
    "tags": []
   },
   "outputs": [],
   "source": [
    "x = best_whips['season']\n",
    "y = best_whips['Count of WHIP < 1.3']"
   ]
  },
  {
   "cell_type": "code",
   "execution_count": 22,
   "id": "7c204b60",
   "metadata": {
    "execution": {
     "iopub.execute_input": "2023-03-06T00:00:07.879330Z",
     "iopub.status.busy": "2023-03-06T00:00:07.879008Z",
     "iopub.status.idle": "2023-03-06T00:00:07.892515Z",
     "shell.execute_reply": "2023-03-06T00:00:07.891555Z"
    },
    "papermill": {
     "duration": 0.036197,
     "end_time": "2023-03-06T00:00:07.894816",
     "exception": false,
     "start_time": "2023-03-06T00:00:07.858619",
     "status": "completed"
    },
    "tags": []
   },
   "outputs": [
    {
     "name": "stdout",
     "output_type": "stream",
     "text": [
      "                             OLS Regression Results                            \n",
      "===============================================================================\n",
      "Dep. Variable:     Count of WHIP < 1.3   R-squared:                       0.132\n",
      "Model:                             OLS   Adj. R-squared:                  0.120\n",
      "Method:                  Least Squares   F-statistic:                     10.95\n",
      "Date:                 Mon, 06 Mar 2023   Prob (F-statistic):            0.00147\n",
      "Time:                         00:00:07   Log-Likelihood:                -286.18\n",
      "No. Observations:                   74   AIC:                             576.4\n",
      "Df Residuals:                       72   BIC:                             581.0\n",
      "Df Model:                            1                                         \n",
      "Covariance Type:             nonrobust                                         \n",
      "==============================================================================\n",
      "                 coef    std err          t      P>|t|      [0.025      0.975]\n",
      "------------------------------------------------------------------------------\n",
      "const       -380.7854    126.626     -3.007      0.004    -633.209    -128.361\n",
      "season         0.2112      0.064      3.308      0.001       0.084       0.338\n",
      "==============================================================================\n",
      "Omnibus:                        5.044   Durbin-Watson:                   0.738\n",
      "Prob(Omnibus):                  0.080   Jarque-Bera (JB):                4.458\n",
      "Skew:                           0.593   Prob(JB):                        0.108\n",
      "Kurtosis:                       3.198   Cond. No.                     1.84e+05\n",
      "==============================================================================\n",
      "\n",
      "Notes:\n",
      "[1] Standard Errors assume that the covariance matrix of the errors is correctly specified.\n",
      "[2] The condition number is large, 1.84e+05. This might indicate that there are\n",
      "strong multicollinearity or other numerical problems.\n"
     ]
    }
   ],
   "source": [
    "x = sm.add_constant(x)\n",
    "model = sm.OLS(y, x).fit()\n",
    "print(model.summary())"
   ]
  },
  {
   "cell_type": "markdown",
   "id": "4ca55afd",
   "metadata": {
    "papermill": {
     "duration": 0.01844,
     "end_time": "2023-03-06T00:00:07.932575",
     "exception": false,
     "start_time": "2023-03-06T00:00:07.914135",
     "status": "completed"
    },
    "tags": []
   },
   "source": [
    "## OK, granted its not the strongest R value by any stretch, but it's definitely at least showing a tad bit of correlation.\n",
    "\n",
    "## However, the F- statistic tells a different story. F-statistic is a measure of how well the independent variable \"season\" predicts the dependent variable \"Count of WHIP < 1.3\".  The F-statistic of 10.95 with a probability (p-value) of 0.00147 indicates that there is less than a 0.15% chance of obtaining such a result if the null hypothesis (i.e., no relationship between the independent variable \"season\" and the dependent variable \"Count of WHIP < 1.3\") were true."
   ]
  },
  {
   "cell_type": "markdown",
   "id": "d4687699",
   "metadata": {
    "papermill": {
     "duration": 0.019703,
     "end_time": "2023-03-06T00:00:07.971451",
     "exception": false,
     "start_time": "2023-03-06T00:00:07.951748",
     "status": "completed"
    },
    "tags": []
   },
   "source": [
    "## Now for FIP "
   ]
  },
  {
   "cell_type": "code",
   "execution_count": 23,
   "id": "d560bbed",
   "metadata": {
    "execution": {
     "iopub.execute_input": "2023-03-06T00:00:08.011636Z",
     "iopub.status.busy": "2023-03-06T00:00:08.011308Z",
     "iopub.status.idle": "2023-03-06T00:00:08.052182Z",
     "shell.execute_reply": "2023-03-06T00:00:08.051255Z"
    },
    "papermill": {
     "duration": 0.063225,
     "end_time": "2023-03-06T00:00:08.054021",
     "exception": false,
     "start_time": "2023-03-06T00:00:07.990796",
     "status": "completed"
    },
    "tags": []
   },
   "outputs": [
    {
     "data": {
      "text/html": [
       "<div>\n",
       "<style scoped>\n",
       "    .dataframe tbody tr th:only-of-type {\n",
       "        vertical-align: middle;\n",
       "    }\n",
       "\n",
       "    .dataframe tbody tr th {\n",
       "        vertical-align: top;\n",
       "    }\n",
       "\n",
       "    .dataframe thead th {\n",
       "        text-align: right;\n",
       "    }\n",
       "</style>\n",
       "<table border=\"1\" class=\"dataframe\">\n",
       "  <thead>\n",
       "    <tr style=\"text-align: right;\">\n",
       "      <th></th>\n",
       "      <th>season</th>\n",
       "      <th>name</th>\n",
       "      <th>team</th>\n",
       "      <th>W</th>\n",
       "      <th>L</th>\n",
       "      <th>G</th>\n",
       "      <th>GS</th>\n",
       "      <th>IP</th>\n",
       "      <th>WHIP</th>\n",
       "      <th>K/9</th>\n",
       "      <th>...</th>\n",
       "      <th>FIP-</th>\n",
       "      <th>xFIP-</th>\n",
       "      <th>K/9+</th>\n",
       "      <th>BB/9+</th>\n",
       "      <th>K/BB+</th>\n",
       "      <th>WHIP+</th>\n",
       "      <th>K%+</th>\n",
       "      <th>BB%+</th>\n",
       "      <th>WAR</th>\n",
       "      <th>playerid</th>\n",
       "    </tr>\n",
       "  </thead>\n",
       "  <tbody>\n",
       "    <tr>\n",
       "      <th>0</th>\n",
       "      <td>2020</td>\n",
       "      <td>Lance Lynn</td>\n",
       "      <td>Rangers</td>\n",
       "      <td>1</td>\n",
       "      <td>0</td>\n",
       "      <td>3</td>\n",
       "      <td>3</td>\n",
       "      <td>18.1</td>\n",
       "      <td>0.82</td>\n",
       "      <td>11.78</td>\n",
       "      <td>...</td>\n",
       "      <td>59</td>\n",
       "      <td>86.0</td>\n",
       "      <td>132</td>\n",
       "      <td>121</td>\n",
       "      <td>109.0</td>\n",
       "      <td>64</td>\n",
       "      <td>149</td>\n",
       "      <td>136</td>\n",
       "      <td>0.7</td>\n",
       "      <td>2520</td>\n",
       "    </tr>\n",
       "    <tr>\n",
       "      <th>1</th>\n",
       "      <td>2020</td>\n",
       "      <td>Randy Dobnak</td>\n",
       "      <td>Twins</td>\n",
       "      <td>2</td>\n",
       "      <td>1</td>\n",
       "      <td>3</td>\n",
       "      <td>3</td>\n",
       "      <td>15.0</td>\n",
       "      <td>0.87</td>\n",
       "      <td>4.80</td>\n",
       "      <td>...</td>\n",
       "      <td>65</td>\n",
       "      <td>87.0</td>\n",
       "      <td>54</td>\n",
       "      <td>65</td>\n",
       "      <td>82.0</td>\n",
       "      <td>68</td>\n",
       "      <td>61</td>\n",
       "      <td>75</td>\n",
       "      <td>0.4</td>\n",
       "      <td>23798</td>\n",
       "    </tr>\n",
       "    <tr>\n",
       "      <th>2</th>\n",
       "      <td>2020</td>\n",
       "      <td>Adrian Houser</td>\n",
       "      <td>Brewers</td>\n",
       "      <td>1</td>\n",
       "      <td>0</td>\n",
       "      <td>2</td>\n",
       "      <td>2</td>\n",
       "      <td>12.0</td>\n",
       "      <td>0.92</td>\n",
       "      <td>6.75</td>\n",
       "      <td>...</td>\n",
       "      <td>96</td>\n",
       "      <td>89.0</td>\n",
       "      <td>74</td>\n",
       "      <td>111</td>\n",
       "      <td>67.0</td>\n",
       "      <td>74</td>\n",
       "      <td>89</td>\n",
       "      <td>133</td>\n",
       "      <td>0.1</td>\n",
       "      <td>12718</td>\n",
       "    </tr>\n",
       "    <tr>\n",
       "      <th>3</th>\n",
       "      <td>2020</td>\n",
       "      <td>Shane Bieber</td>\n",
       "      <td>Indians</td>\n",
       "      <td>3</td>\n",
       "      <td>0</td>\n",
       "      <td>3</td>\n",
       "      <td>3</td>\n",
       "      <td>21.2</td>\n",
       "      <td>0.69</td>\n",
       "      <td>14.54</td>\n",
       "      <td>...</td>\n",
       "      <td>36</td>\n",
       "      <td>30.0</td>\n",
       "      <td>163</td>\n",
       "      <td>34</td>\n",
       "      <td>478.0</td>\n",
       "      <td>54</td>\n",
       "      <td>189</td>\n",
       "      <td>40</td>\n",
       "      <td>1.0</td>\n",
       "      <td>19427</td>\n",
       "    </tr>\n",
       "    <tr>\n",
       "      <th>4</th>\n",
       "      <td>2020</td>\n",
       "      <td>Trevor Bauer</td>\n",
       "      <td>Reds</td>\n",
       "      <td>2</td>\n",
       "      <td>0</td>\n",
       "      <td>3</td>\n",
       "      <td>3</td>\n",
       "      <td>19.1</td>\n",
       "      <td>0.57</td>\n",
       "      <td>14.90</td>\n",
       "      <td>...</td>\n",
       "      <td>42</td>\n",
       "      <td>44.0</td>\n",
       "      <td>164</td>\n",
       "      <td>55</td>\n",
       "      <td>298.0</td>\n",
       "      <td>46</td>\n",
       "      <td>193</td>\n",
       "      <td>65</td>\n",
       "      <td>0.9</td>\n",
       "      <td>12703</td>\n",
       "    </tr>\n",
       "    <tr>\n",
       "      <th>...</th>\n",
       "      <td>...</td>\n",
       "      <td>...</td>\n",
       "      <td>...</td>\n",
       "      <td>...</td>\n",
       "      <td>...</td>\n",
       "      <td>...</td>\n",
       "      <td>...</td>\n",
       "      <td>...</td>\n",
       "      <td>...</td>\n",
       "      <td>...</td>\n",
       "      <td>...</td>\n",
       "      <td>...</td>\n",
       "      <td>...</td>\n",
       "      <td>...</td>\n",
       "      <td>...</td>\n",
       "      <td>...</td>\n",
       "      <td>...</td>\n",
       "      <td>...</td>\n",
       "      <td>...</td>\n",
       "      <td>...</td>\n",
       "      <td>...</td>\n",
       "    </tr>\n",
       "    <tr>\n",
       "      <th>5409</th>\n",
       "      <td>2005</td>\n",
       "      <td>Jose Lima</td>\n",
       "      <td>Royals</td>\n",
       "      <td>5</td>\n",
       "      <td>16</td>\n",
       "      <td>32</td>\n",
       "      <td>32</td>\n",
       "      <td>168.2</td>\n",
       "      <td>1.66</td>\n",
       "      <td>4.27</td>\n",
       "      <td>...</td>\n",
       "      <td>132</td>\n",
       "      <td>124.0</td>\n",
       "      <td>69</td>\n",
       "      <td>108</td>\n",
       "      <td>64.0</td>\n",
       "      <td>122</td>\n",
       "      <td>64</td>\n",
       "      <td>100</td>\n",
       "      <td>-0.3</td>\n",
       "      <td>475</td>\n",
       "    </tr>\n",
       "    <tr>\n",
       "      <th>5410</th>\n",
       "      <td>2020</td>\n",
       "      <td>Madison Bumgarner</td>\n",
       "      <td>Diamondbacks</td>\n",
       "      <td>0</td>\n",
       "      <td>2</td>\n",
       "      <td>3</td>\n",
       "      <td>3</td>\n",
       "      <td>15.1</td>\n",
       "      <td>1.37</td>\n",
       "      <td>6.46</td>\n",
       "      <td>...</td>\n",
       "      <td>146</td>\n",
       "      <td>160.0</td>\n",
       "      <td>71</td>\n",
       "      <td>104</td>\n",
       "      <td>68.0</td>\n",
       "      <td>111</td>\n",
       "      <td>65</td>\n",
       "      <td>94</td>\n",
       "      <td>0.0</td>\n",
       "      <td>5524</td>\n",
       "    </tr>\n",
       "    <tr>\n",
       "      <th>5411</th>\n",
       "      <td>1994</td>\n",
       "      <td>Jim Deshaies</td>\n",
       "      <td>Twins</td>\n",
       "      <td>6</td>\n",
       "      <td>12</td>\n",
       "      <td>25</td>\n",
       "      <td>25</td>\n",
       "      <td>130.1</td>\n",
       "      <td>1.72</td>\n",
       "      <td>5.39</td>\n",
       "      <td>...</td>\n",
       "      <td>131</td>\n",
       "      <td>NaN</td>\n",
       "      <td>89</td>\n",
       "      <td>99</td>\n",
       "      <td>89.0</td>\n",
       "      <td>117</td>\n",
       "      <td>85</td>\n",
       "      <td>95</td>\n",
       "      <td>-0.3</td>\n",
       "      <td>1003228</td>\n",
       "    </tr>\n",
       "    <tr>\n",
       "      <th>5412</th>\n",
       "      <td>2020</td>\n",
       "      <td>Derek Holland</td>\n",
       "      <td>Pirates</td>\n",
       "      <td>0</td>\n",
       "      <td>1</td>\n",
       "      <td>3</td>\n",
       "      <td>3</td>\n",
       "      <td>16.1</td>\n",
       "      <td>1.53</td>\n",
       "      <td>8.82</td>\n",
       "      <td>...</td>\n",
       "      <td>170</td>\n",
       "      <td>111.0</td>\n",
       "      <td>97</td>\n",
       "      <td>97</td>\n",
       "      <td>99.0</td>\n",
       "      <td>124</td>\n",
       "      <td>91</td>\n",
       "      <td>92</td>\n",
       "      <td>-0.2</td>\n",
       "      <td>4141</td>\n",
       "    </tr>\n",
       "    <tr>\n",
       "      <th>5413</th>\n",
       "      <td>2020</td>\n",
       "      <td>Matthew Boyd</td>\n",
       "      <td>Tigers</td>\n",
       "      <td>0</td>\n",
       "      <td>1</td>\n",
       "      <td>3</td>\n",
       "      <td>3</td>\n",
       "      <td>14.2</td>\n",
       "      <td>1.91</td>\n",
       "      <td>7.98</td>\n",
       "      <td>...</td>\n",
       "      <td>127</td>\n",
       "      <td>119.0</td>\n",
       "      <td>89</td>\n",
       "      <td>84</td>\n",
       "      <td>107.0</td>\n",
       "      <td>149</td>\n",
       "      <td>78</td>\n",
       "      <td>73</td>\n",
       "      <td>0.0</td>\n",
       "      <td>15440</td>\n",
       "    </tr>\n",
       "  </tbody>\n",
       "</table>\n",
       "<p>5414 rows × 30 columns</p>\n",
       "</div>"
      ],
      "text/plain": [
       "      season               name          team  W   L   G  GS     IP  WHIP  \\\n",
       "0       2020         Lance Lynn       Rangers  1   0   3   3   18.1  0.82   \n",
       "1       2020       Randy Dobnak         Twins  2   1   3   3   15.0  0.87   \n",
       "2       2020      Adrian Houser       Brewers  1   0   2   2   12.0  0.92   \n",
       "3       2020       Shane Bieber       Indians  3   0   3   3   21.2  0.69   \n",
       "4       2020       Trevor Bauer          Reds  2   0   3   3   19.1  0.57   \n",
       "...      ...                ...           ... ..  ..  ..  ..    ...   ...   \n",
       "5409    2005          Jose Lima        Royals  5  16  32  32  168.2  1.66   \n",
       "5410    2020  Madison Bumgarner  Diamondbacks  0   2   3   3   15.1  1.37   \n",
       "5411    1994       Jim Deshaies         Twins  6  12  25  25  130.1  1.72   \n",
       "5412    2020      Derek Holland       Pirates  0   1   3   3   16.1  1.53   \n",
       "5413    2020       Matthew Boyd        Tigers  0   1   3   3   14.2  1.91   \n",
       "\n",
       "        K/9  ... FIP-  xFIP- K/9+  BB/9+  K/BB+  WHIP+  K%+  BB%+  WAR  \\\n",
       "0     11.78  ...   59   86.0  132    121  109.0     64  149   136  0.7   \n",
       "1      4.80  ...   65   87.0   54     65   82.0     68   61    75  0.4   \n",
       "2      6.75  ...   96   89.0   74    111   67.0     74   89   133  0.1   \n",
       "3     14.54  ...   36   30.0  163     34  478.0     54  189    40  1.0   \n",
       "4     14.90  ...   42   44.0  164     55  298.0     46  193    65  0.9   \n",
       "...     ...  ...  ...    ...  ...    ...    ...    ...  ...   ...  ...   \n",
       "5409   4.27  ...  132  124.0   69    108   64.0    122   64   100 -0.3   \n",
       "5410   6.46  ...  146  160.0   71    104   68.0    111   65    94  0.0   \n",
       "5411   5.39  ...  131    NaN   89     99   89.0    117   85    95 -0.3   \n",
       "5412   8.82  ...  170  111.0   97     97   99.0    124   91    92 -0.2   \n",
       "5413   7.98  ...  127  119.0   89     84  107.0    149   78    73  0.0   \n",
       "\n",
       "      playerid  \n",
       "0         2520  \n",
       "1        23798  \n",
       "2        12718  \n",
       "3        19427  \n",
       "4        12703  \n",
       "...        ...  \n",
       "5409       475  \n",
       "5410      5524  \n",
       "5411   1003228  \n",
       "5412      4141  \n",
       "5413     15440  \n",
       "\n",
       "[5414 rows x 30 columns]"
      ]
     },
     "execution_count": 23,
     "metadata": {},
     "output_type": "execute_result"
    }
   ],
   "source": [
    "import_pitch()"
   ]
  },
  {
   "cell_type": "code",
   "execution_count": 24,
   "id": "52c9e3cd",
   "metadata": {
    "execution": {
     "iopub.execute_input": "2023-03-06T00:00:08.095807Z",
     "iopub.status.busy": "2023-03-06T00:00:08.095439Z",
     "iopub.status.idle": "2023-03-06T00:00:08.332539Z",
     "shell.execute_reply": "2023-03-06T00:00:08.331858Z"
    },
    "papermill": {
     "duration": 0.260814,
     "end_time": "2023-03-06T00:00:08.334335",
     "exception": false,
     "start_time": "2023-03-06T00:00:08.073521",
     "status": "completed"
    },
    "tags": []
   },
   "outputs": [
    {
     "data": {
      "image/png": "[encoded data removed]",
      "text/plain": [
       "<Figure size 1300x800 with 1 Axes>"
      ]
     },
     "metadata": {},
     "output_type": "display_data"
    }
   ],
   "source": [
    "pitch.plot(kind='scatter', x='season', y='FIP', figsize=(13,8), s=2, c= 'red')\n",
    "plt.title('FIP by Season scatter');"
   ]
  },
  {
   "cell_type": "code",
   "execution_count": 25,
   "id": "60946f13",
   "metadata": {
    "execution": {
     "iopub.execute_input": "2023-03-06T00:00:08.376660Z",
     "iopub.status.busy": "2023-03-06T00:00:08.376298Z",
     "iopub.status.idle": "2023-03-06T00:00:08.545937Z",
     "shell.execute_reply": "2023-03-06T00:00:08.545080Z"
    },
    "papermill": {
     "duration": 0.192855,
     "end_time": "2023-03-06T00:00:08.547811",
     "exception": false,
     "start_time": "2023-03-06T00:00:08.354956",
     "status": "completed"
    },
    "tags": []
   },
   "outputs": [
    {
     "data": {
      "image/png": "[encoded data removed]",
      "text/plain": [
       "<Figure size 640x480 with 1 Axes>"
      ]
     },
     "metadata": {},
     "output_type": "display_data"
    }
   ],
   "source": [
    "pitch_1['FIP'].plot()\n",
    "plt.xlabel('Season')\n",
    "plt.ylabel('FIP')\n",
    "plt.title('FIP by Season');"
   ]
  },
  {
   "cell_type": "markdown",
   "id": "88a16c26",
   "metadata": {
    "papermill": {
     "duration": 0.020206,
     "end_time": "2023-03-06T00:00:08.588843",
     "exception": false,
     "start_time": "2023-03-06T00:00:08.568637",
     "status": "completed"
    },
    "tags": []
   },
   "source": [
    "## Hmm, looks prety even keeled "
   ]
  },
  {
   "cell_type": "markdown",
   "id": "d7357889",
   "metadata": {
    "papermill": {
     "duration": 0.02061,
     "end_time": "2023-03-06T00:00:08.630034",
     "exception": false,
     "start_time": "2023-03-06T00:00:08.609424",
     "status": "completed"
    },
    "tags": []
   },
   "source": [
    "## How does this look for r values?"
   ]
  },
  {
   "cell_type": "code",
   "execution_count": 26,
   "id": "ceda1734",
   "metadata": {
    "execution": {
     "iopub.execute_input": "2023-03-06T00:00:08.675254Z",
     "iopub.status.busy": "2023-03-06T00:00:08.674880Z",
     "iopub.status.idle": "2023-03-06T00:00:08.679085Z",
     "shell.execute_reply": "2023-03-06T00:00:08.678239Z"
    },
    "papermill": {
     "duration": 0.029231,
     "end_time": "2023-03-06T00:00:08.680894",
     "exception": false,
     "start_time": "2023-03-06T00:00:08.651663",
     "status": "completed"
    },
    "tags": []
   },
   "outputs": [],
   "source": [
    "x = pitch['season']\n",
    "y = pitch['FIP']"
   ]
  },
  {
   "cell_type": "code",
   "execution_count": 27,
   "id": "0aeaf8b3",
   "metadata": {
    "execution": {
     "iopub.execute_input": "2023-03-06T00:00:08.725245Z",
     "iopub.status.busy": "2023-03-06T00:00:08.724662Z",
     "iopub.status.idle": "2023-03-06T00:00:08.740044Z",
     "shell.execute_reply": "2023-03-06T00:00:08.739227Z"
    },
    "papermill": {
     "duration": 0.039682,
     "end_time": "2023-03-06T00:00:08.741925",
     "exception": false,
     "start_time": "2023-03-06T00:00:08.702243",
     "status": "completed"
    },
    "tags": []
   },
   "outputs": [
    {
     "name": "stdout",
     "output_type": "stream",
     "text": [
      "                            OLS Regression Results                            \n",
      "==============================================================================\n",
      "Dep. Variable:                    FIP   R-squared:                       0.045\n",
      "Model:                            OLS   Adj. R-squared:                  0.045\n",
      "Method:                 Least Squares   F-statistic:                     253.9\n",
      "Date:                Mon, 06 Mar 2023   Prob (F-statistic):           6.79e-56\n",
      "Time:                        00:00:08   Log-Likelihood:                -5450.7\n",
      "No. Observations:                5414   AIC:                         1.091e+04\n",
      "Df Residuals:                    5412   BIC:                         1.092e+04\n",
      "Df Model:                           1                                         \n",
      "Covariance Type:            nonrobust                                         \n",
      "==============================================================================\n",
      "                 coef    std err          t      P>|t|      [0.025      0.975]\n",
      "------------------------------------------------------------------------------\n",
      "const        -10.0992      0.873    -11.574      0.000     -11.810      -8.389\n",
      "season         0.0070      0.000     15.934      0.000       0.006       0.008\n",
      "==============================================================================\n",
      "Omnibus:                       21.374   Durbin-Watson:                   1.611\n",
      "Prob(Omnibus):                  0.000   Jarque-Bera (JB):               28.637\n",
      "Skew:                          -0.006   Prob(JB):                     6.05e-07\n",
      "Kurtosis:                       3.356   Cond. No.                     1.92e+05\n",
      "==============================================================================\n",
      "\n",
      "Notes:\n",
      "[1] Standard Errors assume that the covariance matrix of the errors is correctly specified.\n",
      "[2] The condition number is large, 1.92e+05. This might indicate that there are\n",
      "strong multicollinearity or other numerical problems.\n"
     ]
    }
   ],
   "source": [
    "x = sm.add_constant(x)\n",
    "model = sm.OLS(y, x).fit()\n",
    "print(model.summary())"
   ]
  },
  {
   "cell_type": "markdown",
   "id": "590d45e1",
   "metadata": {
    "papermill": {
     "duration": 0.027375,
     "end_time": "2023-03-06T00:00:08.797523",
     "exception": false,
     "start_time": "2023-03-06T00:00:08.770148",
     "status": "completed"
    },
    "tags": []
   },
   "source": [
    "## There is not much correlation happening here, r value is quite low and the probability statistic is very high showing a high probability for the null hypotheses being right. I will do the same with count of people in each year with a low fip. Let's take a look at the best FIP's."
   ]
  },
  {
   "cell_type": "code",
   "execution_count": 28,
   "id": "4397657d",
   "metadata": {
    "execution": {
     "iopub.execute_input": "2023-03-06T00:00:08.854925Z",
     "iopub.status.busy": "2023-03-06T00:00:08.854600Z",
     "iopub.status.idle": "2023-03-06T00:00:08.873236Z",
     "shell.execute_reply": "2023-03-06T00:00:08.872345Z"
    },
    "papermill": {
     "duration": 0.049972,
     "end_time": "2023-03-06T00:00:08.875251",
     "exception": false,
     "start_time": "2023-03-06T00:00:08.825279",
     "status": "completed"
    },
    "tags": []
   },
   "outputs": [],
   "source": [
    "pitch_3 = import_pitch()"
   ]
  },
  {
   "cell_type": "code",
   "execution_count": 29,
   "id": "5f95058b",
   "metadata": {
    "execution": {
     "iopub.execute_input": "2023-03-06T00:00:08.919200Z",
     "iopub.status.busy": "2023-03-06T00:00:08.918438Z",
     "iopub.status.idle": "2023-03-06T00:00:08.924176Z",
     "shell.execute_reply": "2023-03-06T00:00:08.923358Z"
    },
    "papermill": {
     "duration": 0.028992,
     "end_time": "2023-03-06T00:00:08.925849",
     "exception": false,
     "start_time": "2023-03-06T00:00:08.896857",
     "status": "completed"
    },
    "tags": []
   },
   "outputs": [
    {
     "data": {
      "text/plain": [
       "3.8029811599556713"
      ]
     },
     "execution_count": 29,
     "metadata": {},
     "output_type": "execute_result"
    }
   ],
   "source": [
    "pitch['FIP'].mean()"
   ]
  },
  {
   "cell_type": "code",
   "execution_count": 30,
   "id": "244d22c8",
   "metadata": {
    "execution": {
     "iopub.execute_input": "2023-03-06T00:00:08.970907Z",
     "iopub.status.busy": "2023-03-06T00:00:08.969924Z",
     "iopub.status.idle": "2023-03-06T00:00:08.983923Z",
     "shell.execute_reply": "2023-03-06T00:00:08.982732Z"
    },
    "papermill": {
     "duration": 0.039251,
     "end_time": "2023-03-06T00:00:08.986108",
     "exception": false,
     "start_time": "2023-03-06T00:00:08.946857",
     "status": "completed"
    },
    "tags": []
   },
   "outputs": [
    {
     "data": {
      "text/html": [
       "<div>\n",
       "<style scoped>\n",
       "    .dataframe tbody tr th:only-of-type {\n",
       "        vertical-align: middle;\n",
       "    }\n",
       "\n",
       "    .dataframe tbody tr th {\n",
       "        vertical-align: top;\n",
       "    }\n",
       "\n",
       "    .dataframe thead th {\n",
       "        text-align: right;\n",
       "    }\n",
       "</style>\n",
       "<table border=\"1\" class=\"dataframe\">\n",
       "  <thead>\n",
       "    <tr style=\"text-align: right;\">\n",
       "      <th></th>\n",
       "      <th>season</th>\n",
       "      <th>Count of FIP &lt; 3.8</th>\n",
       "    </tr>\n",
       "  </thead>\n",
       "  <tbody>\n",
       "    <tr>\n",
       "      <th>0</th>\n",
       "      <td>1947</td>\n",
       "      <td>35</td>\n",
       "    </tr>\n",
       "    <tr>\n",
       "      <th>1</th>\n",
       "      <td>1948</td>\n",
       "      <td>25</td>\n",
       "    </tr>\n",
       "    <tr>\n",
       "      <th>2</th>\n",
       "      <td>1949</td>\n",
       "      <td>24</td>\n",
       "    </tr>\n",
       "    <tr>\n",
       "      <th>3</th>\n",
       "      <td>1950</td>\n",
       "      <td>16</td>\n",
       "    </tr>\n",
       "    <tr>\n",
       "      <th>4</th>\n",
       "      <td>1951</td>\n",
       "      <td>27</td>\n",
       "    </tr>\n",
       "    <tr>\n",
       "      <th>...</th>\n",
       "      <td>...</td>\n",
       "      <td>...</td>\n",
       "    </tr>\n",
       "    <tr>\n",
       "      <th>69</th>\n",
       "      <td>2016</td>\n",
       "      <td>23</td>\n",
       "    </tr>\n",
       "    <tr>\n",
       "      <th>70</th>\n",
       "      <td>2017</td>\n",
       "      <td>17</td>\n",
       "    </tr>\n",
       "    <tr>\n",
       "      <th>71</th>\n",
       "      <td>2018</td>\n",
       "      <td>24</td>\n",
       "    </tr>\n",
       "    <tr>\n",
       "      <th>72</th>\n",
       "      <td>2019</td>\n",
       "      <td>21</td>\n",
       "    </tr>\n",
       "    <tr>\n",
       "      <th>73</th>\n",
       "      <td>2020</td>\n",
       "      <td>40</td>\n",
       "    </tr>\n",
       "  </tbody>\n",
       "</table>\n",
       "<p>74 rows × 2 columns</p>\n",
       "</div>"
      ],
      "text/plain": [
       "    season  Count of FIP < 3.8\n",
       "0     1947                  35\n",
       "1     1948                  25\n",
       "2     1949                  24\n",
       "3     1950                  16\n",
       "4     1951                  27\n",
       "..     ...                 ...\n",
       "69    2016                  23\n",
       "70    2017                  17\n",
       "71    2018                  24\n",
       "72    2019                  21\n",
       "73    2020                  40\n",
       "\n",
       "[74 rows x 2 columns]"
      ]
     },
     "execution_count": 30,
     "metadata": {},
     "output_type": "execute_result"
    }
   ],
   "source": [
    "best_fips = stats_by_year(pitch, \"FIP\", \"season\", 3.8)\n",
    "best_fips\n",
    "  \n",
    "   "
   ]
  },
  {
   "cell_type": "code",
   "execution_count": 31,
   "id": "ffabff26",
   "metadata": {
    "execution": {
     "iopub.execute_input": "2023-03-06T00:00:09.030763Z",
     "iopub.status.busy": "2023-03-06T00:00:09.030470Z",
     "iopub.status.idle": "2023-03-06T00:00:09.246345Z",
     "shell.execute_reply": "2023-03-06T00:00:09.245521Z"
    },
    "papermill": {
     "duration": 0.240539,
     "end_time": "2023-03-06T00:00:09.248270",
     "exception": false,
     "start_time": "2023-03-06T00:00:09.007731",
     "status": "completed"
    },
    "tags": []
   },
   "outputs": [
    {
     "data": {
      "image/png": "[encoded data removed]",
      "text/plain": [
       "<Figure size 1300x800 with 1 Axes>"
      ]
     },
     "metadata": {},
     "output_type": "display_data"
    }
   ],
   "source": [
    "best_fips.plot(kind='scatter', x='season', y='Count of FIP < 3.8', figsize=(13,8), s=2, c= 'red')\n",
    "plt.title('Best FIP by Season scatter');"
   ]
  },
  {
   "cell_type": "code",
   "execution_count": 32,
   "id": "dd44390f",
   "metadata": {
    "execution": {
     "iopub.execute_input": "2023-03-06T00:00:09.295407Z",
     "iopub.status.busy": "2023-03-06T00:00:09.294668Z",
     "iopub.status.idle": "2023-03-06T00:00:09.309963Z",
     "shell.execute_reply": "2023-03-06T00:00:09.308709Z"
    },
    "papermill": {
     "duration": 0.041168,
     "end_time": "2023-03-06T00:00:09.311631",
     "exception": false,
     "start_time": "2023-03-06T00:00:09.270463",
     "status": "completed"
    },
    "tags": []
   },
   "outputs": [
    {
     "name": "stdout",
     "output_type": "stream",
     "text": [
      "                            OLS Regression Results                            \n",
      "==============================================================================\n",
      "Dep. Variable:     Count of FIP < 3.8   R-squared:                       0.059\n",
      "Model:                            OLS   Adj. R-squared:                  0.046\n",
      "Method:                 Least Squares   F-statistic:                     4.531\n",
      "Date:                Mon, 06 Mar 2023   Prob (F-statistic):             0.0367\n",
      "Time:                        00:00:09   Log-Likelihood:                -305.98\n",
      "No. Observations:                  74   AIC:                             616.0\n",
      "Df Residuals:                      72   BIC:                             620.6\n",
      "Df Model:                           1                                         \n",
      "Covariance Type:            nonrobust                                         \n",
      "==============================================================================\n",
      "                 coef    std err          t      P>|t|      [0.025      0.975]\n",
      "------------------------------------------------------------------------------\n",
      "const        389.3172    165.457      2.353      0.021      59.485     719.149\n",
      "season        -0.1775      0.083     -2.129      0.037      -0.344      -0.011\n",
      "==============================================================================\n",
      "Omnibus:                        3.610   Durbin-Watson:                   0.756\n",
      "Prob(Omnibus):                  0.164   Jarque-Bera (JB):                3.190\n",
      "Skew:                           0.418   Prob(JB):                        0.203\n",
      "Kurtosis:                       2.422   Cond. No.                     1.84e+05\n",
      "==============================================================================\n",
      "\n",
      "Notes:\n",
      "[1] Standard Errors assume that the covariance matrix of the errors is correctly specified.\n",
      "[2] The condition number is large, 1.84e+05. This might indicate that there are\n",
      "strong multicollinearity or other numerical problems.\n"
     ]
    }
   ],
   "source": [
    "x = best_fips['season']\n",
    "y = best_fips['Count of FIP < 3.8']\n",
    "\n",
    "x = sm.add_constant(x)\n",
    "model = sm.OLS(y, x).fit()\n",
    "print(model.summary())"
   ]
  },
  {
   "cell_type": "markdown",
   "id": "e28b213a",
   "metadata": {
    "papermill": {
     "duration": 0.021213,
     "end_time": "2023-03-06T00:00:09.354353",
     "exception": false,
     "start_time": "2023-03-06T00:00:09.333140",
     "status": "completed"
    },
    "tags": []
   },
   "source": [
    "## Not too strong again in the R squared, but that just means its not truly linear. If you can see it kind of looks like a x^3 graph. The F-statistic will show more. We can see that the F-statistic has a value of 4.531 and a corresponding probability (p-value) of 0.0367. This means that, under the null hypothesis (i.e., the model has no predictive power), we would expect to see a statistic as large as 4.531 only 3.67% of the time. Since this probability is less than the conventional threshold of 5%, we reject the null hypothesis and conclude that the model as a whole is statistically significant."
   ]
  },
  {
   "cell_type": "markdown",
   "id": "d848263f",
   "metadata": {
    "papermill": {
     "duration": 0.021233,
     "end_time": "2023-03-06T00:00:09.397757",
     "exception": false,
     "start_time": "2023-03-06T00:00:09.376524",
     "status": "completed"
    },
    "tags": []
   },
   "source": [
    "# Grouping Data \n",
    "## I now need to group the data in a way that makes sense. I want to use the chart and a combination of history to make sure that it makes sense. I am creating these groups. \n",
    "\n",
    "1. 1947 - 1960 = This is the post segregation phase. The age was changing with the diversification of the players. \n",
    "2. 1961-1969 = This is what is called the dead ball 2 era. This was the age of the pitcher as well with pitchers like Sandy Koufax and Bob Gibson. These were some of the best players ever to play the game. You can see in the graph how this is lower than other spots in history as well. \n",
    "3. 1970 - 1985 = This was era of the introduction of the designated hitter. \n",
    "4. 1986 - 2005 = This is the steroid era. Also supported by the data, this was the age where testing for steroids was not common. Hitters like Barry Bonds, Sammy Sosa, and Mark McGwire. \n",
    "5. 2005 - 2010 = Post Steroid Era but a bit before you start seeing an increase in pitch speed and spin rate. \n",
    "6. 2011 - 2022 = Current era of the pitcher "
   ]
  },
  {
   "cell_type": "markdown",
   "id": "6b274bb0",
   "metadata": {
    "papermill": {
     "duration": 0.020691,
     "end_time": "2023-03-06T00:00:09.439472",
     "exception": false,
     "start_time": "2023-03-06T00:00:09.418781",
     "status": "completed"
    },
    "tags": []
   },
   "source": [
    "### I need to create a function then add a collumn to the chart "
   ]
  },
  {
   "cell_type": "markdown",
   "id": "8bff7847",
   "metadata": {
    "papermill": {
     "duration": 0.021162,
     "end_time": "2023-03-06T00:00:09.481914",
     "exception": false,
     "start_time": "2023-03-06T00:00:09.460752",
     "status": "completed"
    },
    "tags": []
   },
   "source": [
    "#### First, lets reset the data "
   ]
  },
  {
   "cell_type": "code",
   "execution_count": 33,
   "id": "42bd76de",
   "metadata": {
    "execution": {
     "iopub.execute_input": "2023-03-06T00:00:09.525961Z",
     "iopub.status.busy": "2023-03-06T00:00:09.525590Z",
     "iopub.status.idle": "2023-03-06T00:00:09.567416Z",
     "shell.execute_reply": "2023-03-06T00:00:09.566554Z"
    },
    "papermill": {
     "duration": 0.065722,
     "end_time": "2023-03-06T00:00:09.569096",
     "exception": false,
     "start_time": "2023-03-06T00:00:09.503374",
     "status": "completed"
    },
    "tags": []
   },
   "outputs": [
    {
     "data": {
      "text/html": [
       "<div>\n",
       "<style scoped>\n",
       "    .dataframe tbody tr th:only-of-type {\n",
       "        vertical-align: middle;\n",
       "    }\n",
       "\n",
       "    .dataframe tbody tr th {\n",
       "        vertical-align: top;\n",
       "    }\n",
       "\n",
       "    .dataframe thead th {\n",
       "        text-align: right;\n",
       "    }\n",
       "</style>\n",
       "<table border=\"1\" class=\"dataframe\">\n",
       "  <thead>\n",
       "    <tr style=\"text-align: right;\">\n",
       "      <th></th>\n",
       "      <th>season</th>\n",
       "      <th>name</th>\n",
       "      <th>team</th>\n",
       "      <th>W</th>\n",
       "      <th>L</th>\n",
       "      <th>G</th>\n",
       "      <th>GS</th>\n",
       "      <th>IP</th>\n",
       "      <th>WHIP</th>\n",
       "      <th>K/9</th>\n",
       "      <th>...</th>\n",
       "      <th>FIP-</th>\n",
       "      <th>xFIP-</th>\n",
       "      <th>K/9+</th>\n",
       "      <th>BB/9+</th>\n",
       "      <th>K/BB+</th>\n",
       "      <th>WHIP+</th>\n",
       "      <th>K%+</th>\n",
       "      <th>BB%+</th>\n",
       "      <th>WAR</th>\n",
       "      <th>playerid</th>\n",
       "    </tr>\n",
       "  </thead>\n",
       "  <tbody>\n",
       "    <tr>\n",
       "      <th>0</th>\n",
       "      <td>2020</td>\n",
       "      <td>Lance Lynn</td>\n",
       "      <td>Rangers</td>\n",
       "      <td>1</td>\n",
       "      <td>0</td>\n",
       "      <td>3</td>\n",
       "      <td>3</td>\n",
       "      <td>18.1</td>\n",
       "      <td>0.82</td>\n",
       "      <td>11.78</td>\n",
       "      <td>...</td>\n",
       "      <td>59</td>\n",
       "      <td>86.0</td>\n",
       "      <td>132</td>\n",
       "      <td>121</td>\n",
       "      <td>109.0</td>\n",
       "      <td>64</td>\n",
       "      <td>149</td>\n",
       "      <td>136</td>\n",
       "      <td>0.7</td>\n",
       "      <td>2520</td>\n",
       "    </tr>\n",
       "    <tr>\n",
       "      <th>1</th>\n",
       "      <td>2020</td>\n",
       "      <td>Randy Dobnak</td>\n",
       "      <td>Twins</td>\n",
       "      <td>2</td>\n",
       "      <td>1</td>\n",
       "      <td>3</td>\n",
       "      <td>3</td>\n",
       "      <td>15.0</td>\n",
       "      <td>0.87</td>\n",
       "      <td>4.80</td>\n",
       "      <td>...</td>\n",
       "      <td>65</td>\n",
       "      <td>87.0</td>\n",
       "      <td>54</td>\n",
       "      <td>65</td>\n",
       "      <td>82.0</td>\n",
       "      <td>68</td>\n",
       "      <td>61</td>\n",
       "      <td>75</td>\n",
       "      <td>0.4</td>\n",
       "      <td>23798</td>\n",
       "    </tr>\n",
       "    <tr>\n",
       "      <th>2</th>\n",
       "      <td>2020</td>\n",
       "      <td>Adrian Houser</td>\n",
       "      <td>Brewers</td>\n",
       "      <td>1</td>\n",
       "      <td>0</td>\n",
       "      <td>2</td>\n",
       "      <td>2</td>\n",
       "      <td>12.0</td>\n",
       "      <td>0.92</td>\n",
       "      <td>6.75</td>\n",
       "      <td>...</td>\n",
       "      <td>96</td>\n",
       "      <td>89.0</td>\n",
       "      <td>74</td>\n",
       "      <td>111</td>\n",
       "      <td>67.0</td>\n",
       "      <td>74</td>\n",
       "      <td>89</td>\n",
       "      <td>133</td>\n",
       "      <td>0.1</td>\n",
       "      <td>12718</td>\n",
       "    </tr>\n",
       "    <tr>\n",
       "      <th>3</th>\n",
       "      <td>2020</td>\n",
       "      <td>Shane Bieber</td>\n",
       "      <td>Indians</td>\n",
       "      <td>3</td>\n",
       "      <td>0</td>\n",
       "      <td>3</td>\n",
       "      <td>3</td>\n",
       "      <td>21.2</td>\n",
       "      <td>0.69</td>\n",
       "      <td>14.54</td>\n",
       "      <td>...</td>\n",
       "      <td>36</td>\n",
       "      <td>30.0</td>\n",
       "      <td>163</td>\n",
       "      <td>34</td>\n",
       "      <td>478.0</td>\n",
       "      <td>54</td>\n",
       "      <td>189</td>\n",
       "      <td>40</td>\n",
       "      <td>1.0</td>\n",
       "      <td>19427</td>\n",
       "    </tr>\n",
       "    <tr>\n",
       "      <th>4</th>\n",
       "      <td>2020</td>\n",
       "      <td>Trevor Bauer</td>\n",
       "      <td>Reds</td>\n",
       "      <td>2</td>\n",
       "      <td>0</td>\n",
       "      <td>3</td>\n",
       "      <td>3</td>\n",
       "      <td>19.1</td>\n",
       "      <td>0.57</td>\n",
       "      <td>14.90</td>\n",
       "      <td>...</td>\n",
       "      <td>42</td>\n",
       "      <td>44.0</td>\n",
       "      <td>164</td>\n",
       "      <td>55</td>\n",
       "      <td>298.0</td>\n",
       "      <td>46</td>\n",
       "      <td>193</td>\n",
       "      <td>65</td>\n",
       "      <td>0.9</td>\n",
       "      <td>12703</td>\n",
       "    </tr>\n",
       "    <tr>\n",
       "      <th>...</th>\n",
       "      <td>...</td>\n",
       "      <td>...</td>\n",
       "      <td>...</td>\n",
       "      <td>...</td>\n",
       "      <td>...</td>\n",
       "      <td>...</td>\n",
       "      <td>...</td>\n",
       "      <td>...</td>\n",
       "      <td>...</td>\n",
       "      <td>...</td>\n",
       "      <td>...</td>\n",
       "      <td>...</td>\n",
       "      <td>...</td>\n",
       "      <td>...</td>\n",
       "      <td>...</td>\n",
       "      <td>...</td>\n",
       "      <td>...</td>\n",
       "      <td>...</td>\n",
       "      <td>...</td>\n",
       "      <td>...</td>\n",
       "      <td>...</td>\n",
       "    </tr>\n",
       "    <tr>\n",
       "      <th>5409</th>\n",
       "      <td>2005</td>\n",
       "      <td>Jose Lima</td>\n",
       "      <td>Royals</td>\n",
       "      <td>5</td>\n",
       "      <td>16</td>\n",
       "      <td>32</td>\n",
       "      <td>32</td>\n",
       "      <td>168.2</td>\n",
       "      <td>1.66</td>\n",
       "      <td>4.27</td>\n",
       "      <td>...</td>\n",
       "      <td>132</td>\n",
       "      <td>124.0</td>\n",
       "      <td>69</td>\n",
       "      <td>108</td>\n",
       "      <td>64.0</td>\n",
       "      <td>122</td>\n",
       "      <td>64</td>\n",
       "      <td>100</td>\n",
       "      <td>-0.3</td>\n",
       "      <td>475</td>\n",
       "    </tr>\n",
       "    <tr>\n",
       "      <th>5410</th>\n",
       "      <td>2020</td>\n",
       "      <td>Madison Bumgarner</td>\n",
       "      <td>Diamondbacks</td>\n",
       "      <td>0</td>\n",
       "      <td>2</td>\n",
       "      <td>3</td>\n",
       "      <td>3</td>\n",
       "      <td>15.1</td>\n",
       "      <td>1.37</td>\n",
       "      <td>6.46</td>\n",
       "      <td>...</td>\n",
       "      <td>146</td>\n",
       "      <td>160.0</td>\n",
       "      <td>71</td>\n",
       "      <td>104</td>\n",
       "      <td>68.0</td>\n",
       "      <td>111</td>\n",
       "      <td>65</td>\n",
       "      <td>94</td>\n",
       "      <td>0.0</td>\n",
       "      <td>5524</td>\n",
       "    </tr>\n",
       "    <tr>\n",
       "      <th>5411</th>\n",
       "      <td>1994</td>\n",
       "      <td>Jim Deshaies</td>\n",
       "      <td>Twins</td>\n",
       "      <td>6</td>\n",
       "      <td>12</td>\n",
       "      <td>25</td>\n",
       "      <td>25</td>\n",
       "      <td>130.1</td>\n",
       "      <td>1.72</td>\n",
       "      <td>5.39</td>\n",
       "      <td>...</td>\n",
       "      <td>131</td>\n",
       "      <td>NaN</td>\n",
       "      <td>89</td>\n",
       "      <td>99</td>\n",
       "      <td>89.0</td>\n",
       "      <td>117</td>\n",
       "      <td>85</td>\n",
       "      <td>95</td>\n",
       "      <td>-0.3</td>\n",
       "      <td>1003228</td>\n",
       "    </tr>\n",
       "    <tr>\n",
       "      <th>5412</th>\n",
       "      <td>2020</td>\n",
       "      <td>Derek Holland</td>\n",
       "      <td>Pirates</td>\n",
       "      <td>0</td>\n",
       "      <td>1</td>\n",
       "      <td>3</td>\n",
       "      <td>3</td>\n",
       "      <td>16.1</td>\n",
       "      <td>1.53</td>\n",
       "      <td>8.82</td>\n",
       "      <td>...</td>\n",
       "      <td>170</td>\n",
       "      <td>111.0</td>\n",
       "      <td>97</td>\n",
       "      <td>97</td>\n",
       "      <td>99.0</td>\n",
       "      <td>124</td>\n",
       "      <td>91</td>\n",
       "      <td>92</td>\n",
       "      <td>-0.2</td>\n",
       "      <td>4141</td>\n",
       "    </tr>\n",
       "    <tr>\n",
       "      <th>5413</th>\n",
       "      <td>2020</td>\n",
       "      <td>Matthew Boyd</td>\n",
       "      <td>Tigers</td>\n",
       "      <td>0</td>\n",
       "      <td>1</td>\n",
       "      <td>3</td>\n",
       "      <td>3</td>\n",
       "      <td>14.2</td>\n",
       "      <td>1.91</td>\n",
       "      <td>7.98</td>\n",
       "      <td>...</td>\n",
       "      <td>127</td>\n",
       "      <td>119.0</td>\n",
       "      <td>89</td>\n",
       "      <td>84</td>\n",
       "      <td>107.0</td>\n",
       "      <td>149</td>\n",
       "      <td>78</td>\n",
       "      <td>73</td>\n",
       "      <td>0.0</td>\n",
       "      <td>15440</td>\n",
       "    </tr>\n",
       "  </tbody>\n",
       "</table>\n",
       "<p>5414 rows × 30 columns</p>\n",
       "</div>"
      ],
      "text/plain": [
       "      season               name          team  W   L   G  GS     IP  WHIP  \\\n",
       "0       2020         Lance Lynn       Rangers  1   0   3   3   18.1  0.82   \n",
       "1       2020       Randy Dobnak         Twins  2   1   3   3   15.0  0.87   \n",
       "2       2020      Adrian Houser       Brewers  1   0   2   2   12.0  0.92   \n",
       "3       2020       Shane Bieber       Indians  3   0   3   3   21.2  0.69   \n",
       "4       2020       Trevor Bauer          Reds  2   0   3   3   19.1  0.57   \n",
       "...      ...                ...           ... ..  ..  ..  ..    ...   ...   \n",
       "5409    2005          Jose Lima        Royals  5  16  32  32  168.2  1.66   \n",
       "5410    2020  Madison Bumgarner  Diamondbacks  0   2   3   3   15.1  1.37   \n",
       "5411    1994       Jim Deshaies         Twins  6  12  25  25  130.1  1.72   \n",
       "5412    2020      Derek Holland       Pirates  0   1   3   3   16.1  1.53   \n",
       "5413    2020       Matthew Boyd        Tigers  0   1   3   3   14.2  1.91   \n",
       "\n",
       "        K/9  ... FIP-  xFIP- K/9+  BB/9+  K/BB+  WHIP+  K%+  BB%+  WAR  \\\n",
       "0     11.78  ...   59   86.0  132    121  109.0     64  149   136  0.7   \n",
       "1      4.80  ...   65   87.0   54     65   82.0     68   61    75  0.4   \n",
       "2      6.75  ...   96   89.0   74    111   67.0     74   89   133  0.1   \n",
       "3     14.54  ...   36   30.0  163     34  478.0     54  189    40  1.0   \n",
       "4     14.90  ...   42   44.0  164     55  298.0     46  193    65  0.9   \n",
       "...     ...  ...  ...    ...  ...    ...    ...    ...  ...   ...  ...   \n",
       "5409   4.27  ...  132  124.0   69    108   64.0    122   64   100 -0.3   \n",
       "5410   6.46  ...  146  160.0   71    104   68.0    111   65    94  0.0   \n",
       "5411   5.39  ...  131    NaN   89     99   89.0    117   85    95 -0.3   \n",
       "5412   8.82  ...  170  111.0   97     97   99.0    124   91    92 -0.2   \n",
       "5413   7.98  ...  127  119.0   89     84  107.0    149   78    73  0.0   \n",
       "\n",
       "      playerid  \n",
       "0         2520  \n",
       "1        23798  \n",
       "2        12718  \n",
       "3        19427  \n",
       "4        12703  \n",
       "...        ...  \n",
       "5409       475  \n",
       "5410      5524  \n",
       "5411   1003228  \n",
       "5412      4141  \n",
       "5413     15440  \n",
       "\n",
       "[5414 rows x 30 columns]"
      ]
     },
     "execution_count": 33,
     "metadata": {},
     "output_type": "execute_result"
    }
   ],
   "source": [
    "pitch3= import_pitch()\n",
    "pitch3"
   ]
  },
  {
   "cell_type": "code",
   "execution_count": 34,
   "id": "e4e0a746",
   "metadata": {
    "execution": {
     "iopub.execute_input": "2023-03-06T00:00:09.613905Z",
     "iopub.status.busy": "2023-03-06T00:00:09.613545Z",
     "iopub.status.idle": "2023-03-06T00:00:09.646663Z",
     "shell.execute_reply": "2023-03-06T00:00:09.645762Z"
    },
    "papermill": {
     "duration": 0.057385,
     "end_time": "2023-03-06T00:00:09.648297",
     "exception": false,
     "start_time": "2023-03-06T00:00:09.590912",
     "status": "completed"
    },
    "tags": []
   },
   "outputs": [
    {
     "data": {
      "text/html": [
       "<div>\n",
       "<style scoped>\n",
       "    .dataframe tbody tr th:only-of-type {\n",
       "        vertical-align: middle;\n",
       "    }\n",
       "\n",
       "    .dataframe tbody tr th {\n",
       "        vertical-align: top;\n",
       "    }\n",
       "\n",
       "    .dataframe thead th {\n",
       "        text-align: right;\n",
       "    }\n",
       "</style>\n",
       "<table border=\"1\" class=\"dataframe\">\n",
       "  <thead>\n",
       "    <tr style=\"text-align: right;\">\n",
       "      <th></th>\n",
       "      <th>season</th>\n",
       "      <th>name</th>\n",
       "      <th>team</th>\n",
       "      <th>W</th>\n",
       "      <th>L</th>\n",
       "      <th>G</th>\n",
       "      <th>GS</th>\n",
       "      <th>IP</th>\n",
       "      <th>WHIP</th>\n",
       "      <th>K/9</th>\n",
       "      <th>...</th>\n",
       "      <th>xFIP-</th>\n",
       "      <th>K/9+</th>\n",
       "      <th>BB/9+</th>\n",
       "      <th>K/BB+</th>\n",
       "      <th>WHIP+</th>\n",
       "      <th>K%+</th>\n",
       "      <th>BB%+</th>\n",
       "      <th>WAR</th>\n",
       "      <th>playerid</th>\n",
       "      <th>Pitching Eras</th>\n",
       "    </tr>\n",
       "  </thead>\n",
       "  <tbody>\n",
       "    <tr>\n",
       "      <th>5402</th>\n",
       "      <td>2005</td>\n",
       "      <td>Eric Milton</td>\n",
       "      <td>Reds</td>\n",
       "      <td>8</td>\n",
       "      <td>15</td>\n",
       "      <td>34</td>\n",
       "      <td>34</td>\n",
       "      <td>186.1</td>\n",
       "      <td>1.55</td>\n",
       "      <td>5.94</td>\n",
       "      <td>...</td>\n",
       "      <td>116.0</td>\n",
       "      <td>90</td>\n",
       "      <td>76</td>\n",
       "      <td>119.0</td>\n",
       "      <td>113</td>\n",
       "      <td>85</td>\n",
       "      <td>72</td>\n",
       "      <td>0.5</td>\n",
       "      <td>743</td>\n",
       "      <td>Steroid Era</td>\n",
       "    </tr>\n",
       "    <tr>\n",
       "      <th>5403</th>\n",
       "      <td>1999</td>\n",
       "      <td>Darryl Kile</td>\n",
       "      <td>Rockies</td>\n",
       "      <td>8</td>\n",
       "      <td>13</td>\n",
       "      <td>32</td>\n",
       "      <td>32</td>\n",
       "      <td>190.2</td>\n",
       "      <td>1.75</td>\n",
       "      <td>5.48</td>\n",
       "      <td>...</td>\n",
       "      <td>NaN</td>\n",
       "      <td>82</td>\n",
       "      <td>138</td>\n",
       "      <td>59.0</td>\n",
       "      <td>121</td>\n",
       "      <td>77</td>\n",
       "      <td>129</td>\n",
       "      <td>0.9</td>\n",
       "      <td>1163</td>\n",
       "      <td>Steroid Era</td>\n",
       "    </tr>\n",
       "    <tr>\n",
       "      <th>5404</th>\n",
       "      <td>2000</td>\n",
       "      <td>Jose Lima</td>\n",
       "      <td>Astros</td>\n",
       "      <td>7</td>\n",
       "      <td>16</td>\n",
       "      <td>33</td>\n",
       "      <td>33</td>\n",
       "      <td>196.1</td>\n",
       "      <td>1.62</td>\n",
       "      <td>5.68</td>\n",
       "      <td>...</td>\n",
       "      <td>NaN</td>\n",
       "      <td>84</td>\n",
       "      <td>81</td>\n",
       "      <td>104.0</td>\n",
       "      <td>112</td>\n",
       "      <td>81</td>\n",
       "      <td>78</td>\n",
       "      <td>-0.1</td>\n",
       "      <td>475</td>\n",
       "      <td>Steroid Era</td>\n",
       "    </tr>\n",
       "    <tr>\n",
       "      <th>5405</th>\n",
       "      <td>1994</td>\n",
       "      <td>Terry Mulholland</td>\n",
       "      <td>Yankees</td>\n",
       "      <td>6</td>\n",
       "      <td>7</td>\n",
       "      <td>19</td>\n",
       "      <td>19</td>\n",
       "      <td>115.0</td>\n",
       "      <td>1.57</td>\n",
       "      <td>5.32</td>\n",
       "      <td>...</td>\n",
       "      <td>NaN</td>\n",
       "      <td>87</td>\n",
       "      <td>73</td>\n",
       "      <td>120.0</td>\n",
       "      <td>107</td>\n",
       "      <td>86</td>\n",
       "      <td>71</td>\n",
       "      <td>0.5</td>\n",
       "      <td>665</td>\n",
       "      <td>Steroid Era</td>\n",
       "    </tr>\n",
       "    <tr>\n",
       "      <th>5406</th>\n",
       "      <td>1999</td>\n",
       "      <td>LaTroy Hawkins</td>\n",
       "      <td>Twins</td>\n",
       "      <td>10</td>\n",
       "      <td>14</td>\n",
       "      <td>33</td>\n",
       "      <td>33</td>\n",
       "      <td>174.1</td>\n",
       "      <td>1.71</td>\n",
       "      <td>5.32</td>\n",
       "      <td>...</td>\n",
       "      <td>NaN</td>\n",
       "      <td>85</td>\n",
       "      <td>83</td>\n",
       "      <td>102.0</td>\n",
       "      <td>115</td>\n",
       "      <td>82</td>\n",
       "      <td>80</td>\n",
       "      <td>1.4</td>\n",
       "      <td>729</td>\n",
       "      <td>Steroid Era</td>\n",
       "    </tr>\n",
       "    <tr>\n",
       "      <th>5407</th>\n",
       "      <td>2020</td>\n",
       "      <td>Mike Minor</td>\n",
       "      <td>Rangers</td>\n",
       "      <td>0</td>\n",
       "      <td>3</td>\n",
       "      <td>3</td>\n",
       "      <td>3</td>\n",
       "      <td>15.2</td>\n",
       "      <td>1.34</td>\n",
       "      <td>8.62</td>\n",
       "      <td>...</td>\n",
       "      <td>106.0</td>\n",
       "      <td>96</td>\n",
       "      <td>78</td>\n",
       "      <td>123.0</td>\n",
       "      <td>105</td>\n",
       "      <td>93</td>\n",
       "      <td>76</td>\n",
       "      <td>0.3</td>\n",
       "      <td>10021</td>\n",
       "      <td>Current Era</td>\n",
       "    </tr>\n",
       "    <tr>\n",
       "      <th>5408</th>\n",
       "      <td>2020</td>\n",
       "      <td>Wade LeBlanc</td>\n",
       "      <td>Orioles</td>\n",
       "      <td>1</td>\n",
       "      <td>0</td>\n",
       "      <td>3</td>\n",
       "      <td>3</td>\n",
       "      <td>14.1</td>\n",
       "      <td>1.19</td>\n",
       "      <td>5.02</td>\n",
       "      <td>...</td>\n",
       "      <td>116.0</td>\n",
       "      <td>56</td>\n",
       "      <td>34</td>\n",
       "      <td>164.0</td>\n",
       "      <td>93</td>\n",
       "      <td>56</td>\n",
       "      <td>34</td>\n",
       "      <td>-0.1</td>\n",
       "      <td>5221</td>\n",
       "      <td>Current Era</td>\n",
       "    </tr>\n",
       "    <tr>\n",
       "      <th>5409</th>\n",
       "      <td>2005</td>\n",
       "      <td>Jose Lima</td>\n",
       "      <td>Royals</td>\n",
       "      <td>5</td>\n",
       "      <td>16</td>\n",
       "      <td>32</td>\n",
       "      <td>32</td>\n",
       "      <td>168.2</td>\n",
       "      <td>1.66</td>\n",
       "      <td>4.27</td>\n",
       "      <td>...</td>\n",
       "      <td>124.0</td>\n",
       "      <td>69</td>\n",
       "      <td>108</td>\n",
       "      <td>64.0</td>\n",
       "      <td>122</td>\n",
       "      <td>64</td>\n",
       "      <td>100</td>\n",
       "      <td>-0.3</td>\n",
       "      <td>475</td>\n",
       "      <td>Steroid Era</td>\n",
       "    </tr>\n",
       "    <tr>\n",
       "      <th>5410</th>\n",
       "      <td>2020</td>\n",
       "      <td>Madison Bumgarner</td>\n",
       "      <td>Diamondbacks</td>\n",
       "      <td>0</td>\n",
       "      <td>2</td>\n",
       "      <td>3</td>\n",
       "      <td>3</td>\n",
       "      <td>15.1</td>\n",
       "      <td>1.37</td>\n",
       "      <td>6.46</td>\n",
       "      <td>...</td>\n",
       "      <td>160.0</td>\n",
       "      <td>71</td>\n",
       "      <td>104</td>\n",
       "      <td>68.0</td>\n",
       "      <td>111</td>\n",
       "      <td>65</td>\n",
       "      <td>94</td>\n",
       "      <td>0.0</td>\n",
       "      <td>5524</td>\n",
       "      <td>Current Era</td>\n",
       "    </tr>\n",
       "    <tr>\n",
       "      <th>5411</th>\n",
       "      <td>1994</td>\n",
       "      <td>Jim Deshaies</td>\n",
       "      <td>Twins</td>\n",
       "      <td>6</td>\n",
       "      <td>12</td>\n",
       "      <td>25</td>\n",
       "      <td>25</td>\n",
       "      <td>130.1</td>\n",
       "      <td>1.72</td>\n",
       "      <td>5.39</td>\n",
       "      <td>...</td>\n",
       "      <td>NaN</td>\n",
       "      <td>89</td>\n",
       "      <td>99</td>\n",
       "      <td>89.0</td>\n",
       "      <td>117</td>\n",
       "      <td>85</td>\n",
       "      <td>95</td>\n",
       "      <td>-0.3</td>\n",
       "      <td>1003228</td>\n",
       "      <td>Steroid Era</td>\n",
       "    </tr>\n",
       "    <tr>\n",
       "      <th>5412</th>\n",
       "      <td>2020</td>\n",
       "      <td>Derek Holland</td>\n",
       "      <td>Pirates</td>\n",
       "      <td>0</td>\n",
       "      <td>1</td>\n",
       "      <td>3</td>\n",
       "      <td>3</td>\n",
       "      <td>16.1</td>\n",
       "      <td>1.53</td>\n",
       "      <td>8.82</td>\n",
       "      <td>...</td>\n",
       "      <td>111.0</td>\n",
       "      <td>97</td>\n",
       "      <td>97</td>\n",
       "      <td>99.0</td>\n",
       "      <td>124</td>\n",
       "      <td>91</td>\n",
       "      <td>92</td>\n",
       "      <td>-0.2</td>\n",
       "      <td>4141</td>\n",
       "      <td>Current Era</td>\n",
       "    </tr>\n",
       "    <tr>\n",
       "      <th>5413</th>\n",
       "      <td>2020</td>\n",
       "      <td>Matthew Boyd</td>\n",
       "      <td>Tigers</td>\n",
       "      <td>0</td>\n",
       "      <td>1</td>\n",
       "      <td>3</td>\n",
       "      <td>3</td>\n",
       "      <td>14.2</td>\n",
       "      <td>1.91</td>\n",
       "      <td>7.98</td>\n",
       "      <td>...</td>\n",
       "      <td>119.0</td>\n",
       "      <td>89</td>\n",
       "      <td>84</td>\n",
       "      <td>107.0</td>\n",
       "      <td>149</td>\n",
       "      <td>78</td>\n",
       "      <td>73</td>\n",
       "      <td>0.0</td>\n",
       "      <td>15440</td>\n",
       "      <td>Current Era</td>\n",
       "    </tr>\n",
       "  </tbody>\n",
       "</table>\n",
       "<p>12 rows × 31 columns</p>\n",
       "</div>"
      ],
      "text/plain": [
       "      season               name          team   W   L   G  GS     IP  WHIP  \\\n",
       "5402    2005        Eric Milton          Reds   8  15  34  34  186.1  1.55   \n",
       "5403    1999        Darryl Kile       Rockies   8  13  32  32  190.2  1.75   \n",
       "5404    2000          Jose Lima        Astros   7  16  33  33  196.1  1.62   \n",
       "5405    1994   Terry Mulholland       Yankees   6   7  19  19  115.0  1.57   \n",
       "5406    1999     LaTroy Hawkins         Twins  10  14  33  33  174.1  1.71   \n",
       "5407    2020         Mike Minor       Rangers   0   3   3   3   15.2  1.34   \n",
       "5408    2020       Wade LeBlanc       Orioles   1   0   3   3   14.1  1.19   \n",
       "5409    2005          Jose Lima        Royals   5  16  32  32  168.2  1.66   \n",
       "5410    2020  Madison Bumgarner  Diamondbacks   0   2   3   3   15.1  1.37   \n",
       "5411    1994       Jim Deshaies         Twins   6  12  25  25  130.1  1.72   \n",
       "5412    2020      Derek Holland       Pirates   0   1   3   3   16.1  1.53   \n",
       "5413    2020       Matthew Boyd        Tigers   0   1   3   3   14.2  1.91   \n",
       "\n",
       "       K/9  ...  xFIP-  K/9+ BB/9+  K/BB+ WHIP+  K%+  BB%+  WAR  playerid  \\\n",
       "5402  5.94  ...  116.0    90    76  119.0   113   85    72  0.5       743   \n",
       "5403  5.48  ...    NaN    82   138   59.0   121   77   129  0.9      1163   \n",
       "5404  5.68  ...    NaN    84    81  104.0   112   81    78 -0.1       475   \n",
       "5405  5.32  ...    NaN    87    73  120.0   107   86    71  0.5       665   \n",
       "5406  5.32  ...    NaN    85    83  102.0   115   82    80  1.4       729   \n",
       "5407  8.62  ...  106.0    96    78  123.0   105   93    76  0.3     10021   \n",
       "5408  5.02  ...  116.0    56    34  164.0    93   56    34 -0.1      5221   \n",
       "5409  4.27  ...  124.0    69   108   64.0   122   64   100 -0.3       475   \n",
       "5410  6.46  ...  160.0    71   104   68.0   111   65    94  0.0      5524   \n",
       "5411  5.39  ...    NaN    89    99   89.0   117   85    95 -0.3   1003228   \n",
       "5412  8.82  ...  111.0    97    97   99.0   124   91    92 -0.2      4141   \n",
       "5413  7.98  ...  119.0    89    84  107.0   149   78    73  0.0     15440   \n",
       "\n",
       "      Pitching Eras  \n",
       "5402    Steroid Era  \n",
       "5403    Steroid Era  \n",
       "5404    Steroid Era  \n",
       "5405    Steroid Era  \n",
       "5406    Steroid Era  \n",
       "5407    Current Era  \n",
       "5408    Current Era  \n",
       "5409    Steroid Era  \n",
       "5410    Current Era  \n",
       "5411    Steroid Era  \n",
       "5412    Current Era  \n",
       "5413    Current Era  \n",
       "\n",
       "[12 rows x 31 columns]"
      ]
     },
     "execution_count": 34,
     "metadata": {},
     "output_type": "execute_result"
    }
   ],
   "source": [
    "def group_years(season):\n",
    "    if season >= 1947 and season <= 1960:\n",
    "        return \"Post-Segregation\"\n",
    "    elif season >= 1961 and season <= 1969:\n",
    "        return \"Dead Ball 2\"\n",
    "    elif season >= 1970 and season <= 1985:\n",
    "        return \"Designated Hitter\"\n",
    "    elif season >= 1986 and season <= 2005:\n",
    "        return \"Steroid Era\"\n",
    "    elif season >= 2006 and season <= 2010:\n",
    "        return \"Post Steroid Era\"\n",
    "    else:\n",
    "        return \"Current Era\"\n",
    "pitch3['Pitching Eras'] = pitch3['season'].apply(group_years)\n",
    "pitch3.head(12)\n",
    "pitch3.tail(12)"
   ]
  },
  {
   "cell_type": "markdown",
   "id": "1cb6b571",
   "metadata": {
    "papermill": {
     "duration": 0.021696,
     "end_time": "2023-03-06T00:00:09.692045",
     "exception": false,
     "start_time": "2023-03-06T00:00:09.670349",
     "status": "completed"
    },
    "tags": []
   },
   "source": [
    "# What is the bell curve for WHIP and FIP to show how pitching has gotten better?\n",
    "## Segment Analysis \n",
    "\n",
    "Now that we have created a grouping and a column for different pitching eras, I can group the different eras and find the mean to get a better judge of the stats."
   ]
  },
  {
   "cell_type": "code",
   "execution_count": 35,
   "id": "b1230e85",
   "metadata": {
    "execution": {
     "iopub.execute_input": "2023-03-06T00:00:09.737662Z",
     "iopub.status.busy": "2023-03-06T00:00:09.737311Z",
     "iopub.status.idle": "2023-03-06T00:00:09.743549Z",
     "shell.execute_reply": "2023-03-06T00:00:09.742874Z"
    },
    "papermill": {
     "duration": 0.030754,
     "end_time": "2023-03-06T00:00:09.744980",
     "exception": false,
     "start_time": "2023-03-06T00:00:09.714226",
     "status": "completed"
    },
    "tags": []
   },
   "outputs": [
    {
     "data": {
      "text/plain": [
       "<pandas.core.groupby.generic.DataFrameGroupBy object at 0x7f9b2e7003d0>"
      ]
     },
     "execution_count": 35,
     "metadata": {},
     "output_type": "execute_result"
    }
   ],
   "source": [
    "pitch_grouped_by_eras = pitch3.groupby('Pitching Eras')\n",
    "pitch_grouped_by_eras"
   ]
  },
  {
   "cell_type": "code",
   "execution_count": 36,
   "id": "dfcc133a",
   "metadata": {
    "execution": {
     "iopub.execute_input": "2023-03-06T00:00:09.790207Z",
     "iopub.status.busy": "2023-03-06T00:00:09.789904Z",
     "iopub.status.idle": "2023-03-06T00:00:09.799861Z",
     "shell.execute_reply": "2023-03-06T00:00:09.799033Z"
    },
    "papermill": {
     "duration": 0.034352,
     "end_time": "2023-03-06T00:00:09.801450",
     "exception": false,
     "start_time": "2023-03-06T00:00:09.767098",
     "status": "completed"
    },
    "tags": []
   },
   "outputs": [
    {
     "data": {
      "text/plain": [
       "Pitching Eras\n",
       "Current Era          1.222265\n",
       "Dead Ball 2          1.229027\n",
       "Designated Hitter    1.283829\n",
       "Post Steroid Era     1.310847\n",
       "Post-Segregation     1.335426\n",
       "Steroid Era          1.314866\n",
       "Name: WHIP, dtype: float64"
      ]
     },
     "execution_count": 36,
     "metadata": {},
     "output_type": "execute_result"
    }
   ],
   "source": [
    "pitch3.groupby('Pitching Eras')['WHIP'].mean()"
   ]
  },
  {
   "cell_type": "markdown",
   "id": "a64894fd",
   "metadata": {
    "papermill": {
     "duration": 0.022902,
     "end_time": "2023-03-06T00:00:09.846941",
     "exception": false,
     "start_time": "2023-03-06T00:00:09.824039",
     "status": "completed"
    },
    "tags": []
   },
   "source": [
    "### I want to chart out the data, but need it in a specific order. To do this, I need to catagorize the data and set an era order. "
   ]
  },
  {
   "cell_type": "code",
   "execution_count": 37,
   "id": "c751fdc3",
   "metadata": {
    "execution": {
     "iopub.execute_input": "2023-03-06T00:00:09.893365Z",
     "iopub.status.busy": "2023-03-06T00:00:09.893016Z",
     "iopub.status.idle": "2023-03-06T00:00:10.041982Z",
     "shell.execute_reply": "2023-03-06T00:00:10.041254Z"
    },
    "papermill": {
     "duration": 0.174108,
     "end_time": "2023-03-06T00:00:10.043790",
     "exception": false,
     "start_time": "2023-03-06T00:00:09.869682",
     "status": "completed"
    },
    "tags": []
   },
   "outputs": [
    {
     "data": {
      "image/png": "[encoded data removed]",
      "text/plain": [
       "<Figure size 640x480 with 1 Axes>"
      ]
     },
     "metadata": {},
     "output_type": "display_data"
    }
   ],
   "source": [
    "# define the desired order of the Pitching Eras\n",
    "era_order = ['Post-Segregation', 'Dead Ball 2', 'Designated Hitter', 'Steroid Era', 'Post Steroid Era', 'Current Era']\n",
    "\n",
    "# create a categorical data type with the desired order\n",
    "era_cat = pd.CategoricalDtype(categories=era_order, ordered=True)\n",
    "\n",
    "# group by the Pitching Eras and calculate the mean WHIP\n",
    "whip_by_era = pitch3.groupby('Pitching Eras')['WHIP'].mean()\n",
    "\n",
    "# convert the Pitching Eras column to a categorical data type with the desired order\n",
    "whip_by_era.index = whip_by_era.index.astype(era_cat)\n",
    "\n",
    "# sort the DataFrame based on the categorical order\n",
    "whip_by_era = whip_by_era.sort_index()\n",
    "\n",
    "# convert the Series back to a DataFrame\n",
    "whip_reset = whip_by_era.reset_index()\n",
    "\n",
    "# plot the bar chart with the manually set order\n",
    "plt.bar(whip_reset['Pitching Eras'], whip_reset['WHIP'])\n",
    "plt.xlabel('Pitching Eras')\n",
    "plt.ylabel('WHIP')\n",
    "plt.xticks(rotation=45)\n",
    "plt.show();"
   ]
  },
  {
   "cell_type": "markdown",
   "id": "9c3f24b4",
   "metadata": {
    "papermill": {
     "duration": 0.023247,
     "end_time": "2023-03-06T00:00:10.091916",
     "exception": false,
     "start_time": "2023-03-06T00:00:10.068669",
     "status": "completed"
    },
    "tags": []
   },
   "source": [
    "## That difference between current era and the two before might not look big, but with this stat .2 is pretty large. This confirms that at least whip has gone down and is the lowest since Dead Ball 2."
   ]
  },
  {
   "cell_type": "markdown",
   "id": "c6e7f9c9",
   "metadata": {
    "papermill": {
     "duration": 0.02231,
     "end_time": "2023-03-06T00:00:10.136934",
     "exception": false,
     "start_time": "2023-03-06T00:00:10.114624",
     "status": "completed"
    },
    "tags": []
   },
   "source": [
    "## I want to also do a linear regression model using the statsmodels.api to see if the math actually supports this observation"
   ]
  },
  {
   "cell_type": "markdown",
   "id": "c0e6b8e9",
   "metadata": {
    "papermill": {
     "duration": 0.021991,
     "end_time": "2023-03-06T00:00:10.181135",
     "exception": false,
     "start_time": "2023-03-06T00:00:10.159144",
     "status": "completed"
    },
    "tags": []
   },
   "source": [
    "## Now for FIP!"
   ]
  },
  {
   "cell_type": "code",
   "execution_count": 38,
   "id": "edbb99eb",
   "metadata": {
    "execution": {
     "iopub.execute_input": "2023-03-06T00:00:10.226558Z",
     "iopub.status.busy": "2023-03-06T00:00:10.226198Z",
     "iopub.status.idle": "2023-03-06T00:00:10.232229Z",
     "shell.execute_reply": "2023-03-06T00:00:10.231446Z"
    },
    "papermill": {
     "duration": 0.030521,
     "end_time": "2023-03-06T00:00:10.233769",
     "exception": false,
     "start_time": "2023-03-06T00:00:10.203248",
     "status": "completed"
    },
    "tags": []
   },
   "outputs": [
    {
     "data": {
      "text/plain": [
       "<pandas.core.groupby.generic.DataFrameGroupBy object at 0x7f9b2e6b5650>"
      ]
     },
     "execution_count": 38,
     "metadata": {},
     "output_type": "execute_result"
    }
   ],
   "source": [
    "pitch_grouped_by_eras = pitch3.groupby('Pitching Eras')\n",
    "pitch_grouped_by_eras"
   ]
  },
  {
   "cell_type": "code",
   "execution_count": 39,
   "id": "f71c74fc",
   "metadata": {
    "execution": {
     "iopub.execute_input": "2023-03-06T00:00:10.279968Z",
     "iopub.status.busy": "2023-03-06T00:00:10.279656Z",
     "iopub.status.idle": "2023-03-06T00:00:10.286681Z",
     "shell.execute_reply": "2023-03-06T00:00:10.286002Z"
    },
    "papermill": {
     "duration": 0.032042,
     "end_time": "2023-03-06T00:00:10.288114",
     "exception": false,
     "start_time": "2023-03-06T00:00:10.256072",
     "status": "completed"
    },
    "tags": []
   },
   "outputs": [
    {
     "data": {
      "text/plain": [
       "Pitching Eras\n",
       "Current Era          3.785939\n",
       "Dead Ball 2          3.383142\n",
       "Designated Hitter    3.612864\n",
       "Post Steroid Era     4.090726\n",
       "Post-Segregation     3.783405\n",
       "Steroid Era          4.060926\n",
       "Name: FIP, dtype: float64"
      ]
     },
     "execution_count": 39,
     "metadata": {},
     "output_type": "execute_result"
    }
   ],
   "source": [
    "pitch3.groupby('Pitching Eras')['FIP'].mean()"
   ]
  },
  {
   "cell_type": "code",
   "execution_count": 40,
   "id": "43b5c563",
   "metadata": {
    "execution": {
     "iopub.execute_input": "2023-03-06T00:00:10.336224Z",
     "iopub.status.busy": "2023-03-06T00:00:10.335922Z",
     "iopub.status.idle": "2023-03-06T00:00:10.502191Z",
     "shell.execute_reply": "2023-03-06T00:00:10.501356Z"
    },
    "papermill": {
     "duration": 0.192211,
     "end_time": "2023-03-06T00:00:10.503895",
     "exception": false,
     "start_time": "2023-03-06T00:00:10.311684",
     "status": "completed"
    },
    "tags": []
   },
   "outputs": [
    {
     "data": {
      "image/png": "[encoded data removed]",
      "text/plain": [
       "<Figure size 640x480 with 1 Axes>"
      ]
     },
     "metadata": {},
     "output_type": "display_data"
    }
   ],
   "source": [
    "# define the desired order of the Pitching Eras\n",
    "era_order = ['Post-Segregation', 'Dead Ball 2', 'Designated Hitter', 'Steroid Era', 'Post Steroid Era', 'Current Era']\n",
    "\n",
    "# create a categorical data type with the desired order\n",
    "era_cat = pd.CategoricalDtype(categories=era_order, ordered=True)\n",
    "\n",
    "# group by the Pitching Eras and calculate the mean WHIP\n",
    "fip_by_era = pitch3.groupby('Pitching Eras')['FIP'].mean()\n",
    "\n",
    "# convert the Pitching Eras column to a categorical data type with the desired order\n",
    "fip_by_era.index = fip_by_era.index.astype(era_cat)\n",
    "\n",
    "# sort the DataFrame based on the categorical order\n",
    "fip_by_era = fip_by_era.sort_index()\n",
    "\n",
    "# convert the Series back to a DataFrame\n",
    "fip_reset = fip_by_era.reset_index()\n",
    "\n",
    "# plot the bar chart with the manually set order\n",
    "plt.bar(fip_reset['Pitching Eras'], fip_reset['FIP'])\n",
    "plt.xlabel('Pitching Eras')\n",
    "plt.ylabel('FIP')\n",
    "plt.xticks(rotation=45);"
   ]
  },
  {
   "cell_type": "markdown",
   "id": "2c3bae3a",
   "metadata": {
    "papermill": {
     "duration": 0.02264,
     "end_time": "2023-03-06T00:00:10.549567",
     "exception": false,
     "start_time": "2023-03-06T00:00:10.526927",
     "status": "completed"
    },
    "tags": []
   },
   "source": [
    "## Looks like FIP is a little bit more ambiguous. It is still lower than the two previous eras, but clearly there was something going on in Dead Ball 2 and Designated Hitter era."
   ]
  },
  {
   "cell_type": "markdown",
   "id": "d1c39ba6",
   "metadata": {
    "papermill": {
     "duration": 0.022894,
     "end_time": "2023-03-06T00:00:10.595406",
     "exception": false,
     "start_time": "2023-03-06T00:00:10.572512",
     "status": "completed"
    },
    "tags": []
   },
   "source": [
    "# How has the decrease of innings effected WAR?"
   ]
  },
  {
   "cell_type": "markdown",
   "id": "2adecc08",
   "metadata": {
    "papermill": {
     "duration": 0.024173,
     "end_time": "2023-03-06T00:00:10.642468",
     "exception": false,
     "start_time": "2023-03-06T00:00:10.618295",
     "status": "completed"
    },
    "tags": []
   },
   "source": [
    "## I want to see a scatterplot to see if there is any correlation between innings pitched and war"
   ]
  },
  {
   "cell_type": "code",
   "execution_count": 41,
   "id": "b5422424",
   "metadata": {
    "execution": {
     "iopub.execute_input": "2023-03-06T00:00:10.691074Z",
     "iopub.status.busy": "2023-03-06T00:00:10.690561Z",
     "iopub.status.idle": "2023-03-06T00:00:10.912736Z",
     "shell.execute_reply": "2023-03-06T00:00:10.911880Z"
    },
    "papermill": {
     "duration": 0.248429,
     "end_time": "2023-03-06T00:00:10.914603",
     "exception": false,
     "start_time": "2023-03-06T00:00:10.666174",
     "status": "completed"
    },
    "tags": []
   },
   "outputs": [
    {
     "data": {
      "image/png": "[encoded data removed]",
      "text/plain": [
       "<Figure size 1300x800 with 1 Axes>"
      ]
     },
     "metadata": {},
     "output_type": "display_data"
    }
   ],
   "source": [
    "pitch.plot(kind='scatter', x='IP', y='WAR', figsize=(13,8), s=2, c= 'red');\n"
   ]
  },
  {
   "cell_type": "code",
   "execution_count": 42,
   "id": "1df8ac3a",
   "metadata": {
    "execution": {
     "iopub.execute_input": "2023-03-06T00:00:10.964360Z",
     "iopub.status.busy": "2023-03-06T00:00:10.964047Z",
     "iopub.status.idle": "2023-03-06T00:00:10.968701Z",
     "shell.execute_reply": "2023-03-06T00:00:10.967782Z"
    },
    "papermill": {
     "duration": 0.031268,
     "end_time": "2023-03-06T00:00:10.970257",
     "exception": false,
     "start_time": "2023-03-06T00:00:10.938989",
     "status": "completed"
    },
    "tags": []
   },
   "outputs": [],
   "source": [
    "x = pitch['IP']\n",
    "y = pitch['WAR']"
   ]
  },
  {
   "cell_type": "code",
   "execution_count": 43,
   "id": "bea2eb3d",
   "metadata": {
    "execution": {
     "iopub.execute_input": "2023-03-06T00:00:11.019525Z",
     "iopub.status.busy": "2023-03-06T00:00:11.019135Z",
     "iopub.status.idle": "2023-03-06T00:00:11.035703Z",
     "shell.execute_reply": "2023-03-06T00:00:11.034210Z"
    },
    "papermill": {
     "duration": 0.043498,
     "end_time": "2023-03-06T00:00:11.037593",
     "exception": false,
     "start_time": "2023-03-06T00:00:10.994095",
     "status": "completed"
    },
    "tags": []
   },
   "outputs": [
    {
     "name": "stdout",
     "output_type": "stream",
     "text": [
      "                            OLS Regression Results                            \n",
      "==============================================================================\n",
      "Dep. Variable:                    WAR   R-squared:                       0.349\n",
      "Model:                            OLS   Adj. R-squared:                  0.349\n",
      "Method:                 Least Squares   F-statistic:                     2905.\n",
      "Date:                Mon, 06 Mar 2023   Prob (F-statistic):               0.00\n",
      "Time:                        00:00:11   Log-Likelihood:                -9292.5\n",
      "No. Observations:                5414   AIC:                         1.859e+04\n",
      "Df Residuals:                    5412   BIC:                         1.860e+04\n",
      "Df Model:                           1                                         \n",
      "Covariance Type:            nonrobust                                         \n",
      "==============================================================================\n",
      "                 coef    std err          t      P>|t|      [0.025      0.975]\n",
      "------------------------------------------------------------------------------\n",
      "const         -1.9595      0.094    -20.760      0.000      -2.145      -1.774\n",
      "IP             0.0243      0.000     53.898      0.000       0.023       0.025\n",
      "==============================================================================\n",
      "Omnibus:                      351.179   Durbin-Watson:                   1.894\n",
      "Prob(Omnibus):                  0.000   Jarque-Bera (JB):              545.514\n",
      "Skew:                           0.529   Prob(JB):                    3.49e-119\n",
      "Kurtosis:                       4.140   Cond. No.                     1.08e+03\n",
      "==============================================================================\n",
      "\n",
      "Notes:\n",
      "[1] Standard Errors assume that the covariance matrix of the errors is correctly specified.\n",
      "[2] The condition number is large, 1.08e+03. This might indicate that there are\n",
      "strong multicollinearity or other numerical problems.\n"
     ]
    }
   ],
   "source": [
    "x = sm.add_constant(x)\n",
    "model = sm.OLS(y, x).fit()\n",
    "print(model.summary())"
   ]
  },
  {
   "cell_type": "markdown",
   "id": "6b948780",
   "metadata": {
    "papermill": {
     "duration": 0.034407,
     "end_time": "2023-03-06T00:00:11.106650",
     "exception": false,
     "start_time": "2023-03-06T00:00:11.072243",
     "status": "completed"
    },
    "tags": []
   },
   "source": [
    "## It does appear that the higher the innings pitched the higher the WAR. In the OLS Regression Results, the F-statistic is 2905, which indicates a high degree of significance. The probability value associated with the F-statistic (Prob (F-statistic)) is 0.00, which is less than the typical significance level of 5%. This means that the null hypothesis, which states that the independent variables have no effect on the dependent variable, can be rejected. Therefore, we can conclude that the independent variable \"IP\" has a statistically significant impact on the dependent variable \"WAR\". This does make logical sense, however, as the more you play the more valuable you become. What about different eras?"
   ]
  },
  {
   "cell_type": "code",
   "execution_count": 44,
   "id": "77511e6e",
   "metadata": {
    "execution": {
     "iopub.execute_input": "2023-03-06T00:00:11.168318Z",
     "iopub.status.busy": "2023-03-06T00:00:11.168019Z",
     "iopub.status.idle": "2023-03-06T00:00:11.177358Z",
     "shell.execute_reply": "2023-03-06T00:00:11.176424Z"
    },
    "papermill": {
     "duration": 0.037742,
     "end_time": "2023-03-06T00:00:11.179167",
     "exception": false,
     "start_time": "2023-03-06T00:00:11.141425",
     "status": "completed"
    },
    "tags": []
   },
   "outputs": [
    {
     "data": {
      "text/plain": [
       "Pitching Eras\n",
       "Current Era          2.732873\n",
       "Dead Ball 2          3.214992\n",
       "Designated Hitter    3.087104\n",
       "Post Steroid Era     3.143341\n",
       "Post-Segregation     2.945997\n",
       "Steroid Era          3.063102\n",
       "Name: WAR, dtype: float64"
      ]
     },
     "execution_count": 44,
     "metadata": {},
     "output_type": "execute_result"
    }
   ],
   "source": [
    "pitch3.groupby('Pitching Eras')['WAR'].mean()"
   ]
  },
  {
   "cell_type": "code",
   "execution_count": 45,
   "id": "1be950b3",
   "metadata": {
    "execution": {
     "iopub.execute_input": "2023-03-06T00:00:11.230421Z",
     "iopub.status.busy": "2023-03-06T00:00:11.230035Z",
     "iopub.status.idle": "2023-03-06T00:00:11.238421Z",
     "shell.execute_reply": "2023-03-06T00:00:11.237732Z"
    },
    "papermill": {
     "duration": 0.035761,
     "end_time": "2023-03-06T00:00:11.239954",
     "exception": false,
     "start_time": "2023-03-06T00:00:11.204193",
     "status": "completed"
    },
    "tags": []
   },
   "outputs": [
    {
     "data": {
      "text/plain": [
       "Pitching Eras\n",
       "Current Era          175.924448\n",
       "Dead Ball 2          221.950558\n",
       "Designated Hitter    219.138845\n",
       "Post Steroid Era     197.614770\n",
       "Post-Segregation     211.302414\n",
       "Steroid Era          201.801001\n",
       "Name: IP, dtype: float64"
      ]
     },
     "execution_count": 45,
     "metadata": {},
     "output_type": "execute_result"
    }
   ],
   "source": [
    "pitch3.groupby('Pitching Eras')['IP'].mean()"
   ]
  },
  {
   "cell_type": "code",
   "execution_count": 46,
   "id": "8f692782",
   "metadata": {
    "execution": {
     "iopub.execute_input": "2023-03-06T00:00:11.291213Z",
     "iopub.status.busy": "2023-03-06T00:00:11.290176Z",
     "iopub.status.idle": "2023-03-06T00:00:11.426910Z",
     "shell.execute_reply": "2023-03-06T00:00:11.426164Z"
    },
    "papermill": {
     "duration": 0.163705,
     "end_time": "2023-03-06T00:00:11.428530",
     "exception": false,
     "start_time": "2023-03-06T00:00:11.264825",
     "status": "completed"
    },
    "tags": []
   },
   "outputs": [
    {
     "data": {
      "image/png": "[encoded data removed]",
      "text/plain": [
       "<Figure size 640x480 with 1 Axes>"
      ]
     },
     "metadata": {},
     "output_type": "display_data"
    }
   ],
   "source": [
    "# define the desired order of the Pitching Eras\n",
    "era_order = [ 'Current Era', 'Post Steroid Era', 'Steroid Era',  'Designated Hitter', 'Dead Ball 2', 'Post-Segregation']\n",
    "\n",
    "# create a categorical data type with the desired order\n",
    "era_cat = pd.CategoricalDtype(categories=era_order, ordered=True)\n",
    "\n",
    "# group by the Pitching Eras and calculate the mean WHIP\n",
    "ip_by_era = pitch3.groupby('Pitching Eras')['IP'].mean()\n",
    "\n",
    "# convert the Pitching Eras column to a categorical data type with the desired order\n",
    "ip_by_era.index = ip_by_era.index.astype(era_cat)\n",
    "\n",
    "# sort the DataFrame based on the categorical order\n",
    "ip_by_era = ip_by_era.sort_index()\n",
    "\n",
    "# convert the Series back to a DataFrame\n",
    "df = ip_by_era.reset_index()\n",
    "\n",
    "# plot the bar chart with the manually set order\n",
    "plt.barh(df['Pitching Eras'], df['IP'])\n",
    "plt.xlabel('Pitching Eras')\n",
    "plt.ylabel('IP')\n",
    "plt.xticks(rotation=45)\n",
    "plt.show()"
   ]
  },
  {
   "cell_type": "markdown",
   "id": "2a7cb49c",
   "metadata": {
    "papermill": {
     "duration": 0.024625,
     "end_time": "2023-03-06T00:00:11.479703",
     "exception": false,
     "start_time": "2023-03-06T00:00:11.455078",
     "status": "completed"
    },
    "tags": []
   },
   "source": [
    "## This clearly shows that there is a decrease in innings now than in the past. "
   ]
  },
  {
   "cell_type": "code",
   "execution_count": 47,
   "id": "ea547aad",
   "metadata": {
    "execution": {
     "iopub.execute_input": "2023-03-06T00:00:11.530431Z",
     "iopub.status.busy": "2023-03-06T00:00:11.529528Z",
     "iopub.status.idle": "2023-03-06T00:00:11.671544Z",
     "shell.execute_reply": "2023-03-06T00:00:11.670676Z"
    },
    "papermill": {
     "duration": 0.169493,
     "end_time": "2023-03-06T00:00:11.673532",
     "exception": false,
     "start_time": "2023-03-06T00:00:11.504039",
     "status": "completed"
    },
    "tags": []
   },
   "outputs": [
    {
     "data": {
      "image/png": "[encoded data removed]",
      "text/plain": [
       "<Figure size 640x480 with 1 Axes>"
      ]
     },
     "metadata": {},
     "output_type": "display_data"
    }
   ],
   "source": [
    "# define the desired order of the Pitching Eras\n",
    "era_order = ['Post-Segregation', 'Dead Ball 2', 'Designated Hitter', 'Steroid Era', 'Post Steroid Era', 'Current Era']\n",
    "\n",
    "# create a categorical data type with the desired order\n",
    "era_cat = pd.CategoricalDtype(categories=era_order, ordered=True)\n",
    "\n",
    "# group by the Pitching Eras and calculate the mean WHIP\n",
    "war_by_era = pitch3.groupby('Pitching Eras')['WAR'].mean()\n",
    "\n",
    "# convert the Pitching Eras column to a categorical data type with the desired order\n",
    "war_by_era.index = war_by_era.index.astype(era_cat)\n",
    "\n",
    "# sort the DataFrame based on the categorical order\n",
    "war_by_era = war_by_era.sort_index()\n",
    "\n",
    "# convert the Series back to a DataFrame\n",
    "df = war_by_era.reset_index()\n",
    "\n",
    "# plot the bar chart with the manually set order\n",
    "plt.bar(df['Pitching Eras'], df['WAR'])\n",
    "plt.xlabel('Pitching Eras')\n",
    "plt.ylabel('WAR')\n",
    "plt.xticks(rotation=45)\n",
    "plt.show()"
   ]
  },
  {
   "cell_type": "markdown",
   "id": "d749d22a",
   "metadata": {
    "papermill": {
     "duration": 0.025668,
     "end_time": "2023-03-06T00:00:11.728378",
     "exception": false,
     "start_time": "2023-03-06T00:00:11.702710",
     "status": "completed"
    },
    "tags": []
   },
   "source": [
    "## Interestingly enough, even though the scatterplot showed a clear relation, the mean of the WAR show a different story. This is not the same shape as the WHIP chart and that surprises me."
   ]
  },
  {
   "cell_type": "markdown",
   "id": "8a450b9c",
   "metadata": {
    "papermill": {
     "duration": 0.025304,
     "end_time": "2023-03-06T00:00:11.779465",
     "exception": false,
     "start_time": "2023-03-06T00:00:11.754161",
     "status": "completed"
    },
    "tags": []
   },
   "source": [
    "# What does the K/9 show in terms of changing over time? "
   ]
  },
  {
   "cell_type": "code",
   "execution_count": 48,
   "id": "54923df1",
   "metadata": {
    "execution": {
     "iopub.execute_input": "2023-03-06T00:00:11.833063Z",
     "iopub.status.busy": "2023-03-06T00:00:11.832094Z",
     "iopub.status.idle": "2023-03-06T00:00:12.052494Z",
     "shell.execute_reply": "2023-03-06T00:00:12.051643Z"
    },
    "papermill": {
     "duration": 0.248416,
     "end_time": "2023-03-06T00:00:12.054369",
     "exception": false,
     "start_time": "2023-03-06T00:00:11.805953",
     "status": "completed"
    },
    "tags": []
   },
   "outputs": [
    {
     "data": {
      "image/png": "[encoded data removed]",
      "text/plain": [
       "<Figure size 1300x800 with 1 Axes>"
      ]
     },
     "metadata": {},
     "output_type": "display_data"
    }
   ],
   "source": [
    "pitch.plot(kind='scatter', x='season', y='K/9', figsize=(13,8), s=2, c= 'red');\n"
   ]
  },
  {
   "cell_type": "markdown",
   "id": "82e7dbea",
   "metadata": {
    "papermill": {
     "duration": 0.026988,
     "end_time": "2023-03-06T00:00:12.108160",
     "exception": false,
     "start_time": "2023-03-06T00:00:12.081172",
     "status": "completed"
    },
    "tags": []
   },
   "source": [
    "## WOW! Almost looks like a wave of low strikeouts to high strikeouts. However, the wave gets larger in the downward side every cycle. It is clear though that there is even a bigger jump in current era than normal however. Let's look further. "
   ]
  },
  {
   "cell_type": "code",
   "execution_count": 49,
   "id": "2aaa9691",
   "metadata": {
    "execution": {
     "iopub.execute_input": "2023-03-06T00:00:12.164535Z",
     "iopub.status.busy": "2023-03-06T00:00:12.164195Z",
     "iopub.status.idle": "2023-03-06T00:00:12.183738Z",
     "shell.execute_reply": "2023-03-06T00:00:12.183157Z"
    },
    "papermill": {
     "duration": 0.049379,
     "end_time": "2023-03-06T00:00:12.185205",
     "exception": false,
     "start_time": "2023-03-06T00:00:12.135826",
     "status": "completed"
    },
    "tags": []
   },
   "outputs": [
    {
     "data": {
      "text/html": [
       "<div>\n",
       "<style scoped>\n",
       "    .dataframe tbody tr th:only-of-type {\n",
       "        vertical-align: middle;\n",
       "    }\n",
       "\n",
       "    .dataframe tbody tr th {\n",
       "        vertical-align: top;\n",
       "    }\n",
       "\n",
       "    .dataframe thead th {\n",
       "        text-align: right;\n",
       "    }\n",
       "</style>\n",
       "<table border=\"1\" class=\"dataframe\">\n",
       "  <thead>\n",
       "    <tr style=\"text-align: right;\">\n",
       "      <th></th>\n",
       "      <th>season</th>\n",
       "      <th>name</th>\n",
       "      <th>team</th>\n",
       "      <th>W</th>\n",
       "      <th>L</th>\n",
       "      <th>G</th>\n",
       "      <th>GS</th>\n",
       "      <th>IP</th>\n",
       "      <th>WHIP</th>\n",
       "      <th>K/9</th>\n",
       "      <th>...</th>\n",
       "      <th>xFIP-</th>\n",
       "      <th>K/9+</th>\n",
       "      <th>BB/9+</th>\n",
       "      <th>K/BB+</th>\n",
       "      <th>WHIP+</th>\n",
       "      <th>K%+</th>\n",
       "      <th>BB%+</th>\n",
       "      <th>WAR</th>\n",
       "      <th>playerid</th>\n",
       "      <th>Pitching Eras</th>\n",
       "    </tr>\n",
       "  </thead>\n",
       "  <tbody>\n",
       "    <tr>\n",
       "      <th>0</th>\n",
       "      <td>2020</td>\n",
       "      <td>Lance Lynn</td>\n",
       "      <td>Rangers</td>\n",
       "      <td>1</td>\n",
       "      <td>0</td>\n",
       "      <td>3</td>\n",
       "      <td>3</td>\n",
       "      <td>18.1</td>\n",
       "      <td>0.82</td>\n",
       "      <td>11.78</td>\n",
       "      <td>...</td>\n",
       "      <td>86.0</td>\n",
       "      <td>132</td>\n",
       "      <td>121</td>\n",
       "      <td>109.0</td>\n",
       "      <td>64</td>\n",
       "      <td>149</td>\n",
       "      <td>136</td>\n",
       "      <td>0.7</td>\n",
       "      <td>2520</td>\n",
       "      <td>Current Era</td>\n",
       "    </tr>\n",
       "    <tr>\n",
       "      <th>1</th>\n",
       "      <td>2020</td>\n",
       "      <td>Randy Dobnak</td>\n",
       "      <td>Twins</td>\n",
       "      <td>2</td>\n",
       "      <td>1</td>\n",
       "      <td>3</td>\n",
       "      <td>3</td>\n",
       "      <td>15.0</td>\n",
       "      <td>0.87</td>\n",
       "      <td>4.80</td>\n",
       "      <td>...</td>\n",
       "      <td>87.0</td>\n",
       "      <td>54</td>\n",
       "      <td>65</td>\n",
       "      <td>82.0</td>\n",
       "      <td>68</td>\n",
       "      <td>61</td>\n",
       "      <td>75</td>\n",
       "      <td>0.4</td>\n",
       "      <td>23798</td>\n",
       "      <td>Current Era</td>\n",
       "    </tr>\n",
       "    <tr>\n",
       "      <th>2</th>\n",
       "      <td>2020</td>\n",
       "      <td>Adrian Houser</td>\n",
       "      <td>Brewers</td>\n",
       "      <td>1</td>\n",
       "      <td>0</td>\n",
       "      <td>2</td>\n",
       "      <td>2</td>\n",
       "      <td>12.0</td>\n",
       "      <td>0.92</td>\n",
       "      <td>6.75</td>\n",
       "      <td>...</td>\n",
       "      <td>89.0</td>\n",
       "      <td>74</td>\n",
       "      <td>111</td>\n",
       "      <td>67.0</td>\n",
       "      <td>74</td>\n",
       "      <td>89</td>\n",
       "      <td>133</td>\n",
       "      <td>0.1</td>\n",
       "      <td>12718</td>\n",
       "      <td>Current Era</td>\n",
       "    </tr>\n",
       "    <tr>\n",
       "      <th>3</th>\n",
       "      <td>2020</td>\n",
       "      <td>Shane Bieber</td>\n",
       "      <td>Indians</td>\n",
       "      <td>3</td>\n",
       "      <td>0</td>\n",
       "      <td>3</td>\n",
       "      <td>3</td>\n",
       "      <td>21.2</td>\n",
       "      <td>0.69</td>\n",
       "      <td>14.54</td>\n",
       "      <td>...</td>\n",
       "      <td>30.0</td>\n",
       "      <td>163</td>\n",
       "      <td>34</td>\n",
       "      <td>478.0</td>\n",
       "      <td>54</td>\n",
       "      <td>189</td>\n",
       "      <td>40</td>\n",
       "      <td>1.0</td>\n",
       "      <td>19427</td>\n",
       "      <td>Current Era</td>\n",
       "    </tr>\n",
       "    <tr>\n",
       "      <th>4</th>\n",
       "      <td>2020</td>\n",
       "      <td>Trevor Bauer</td>\n",
       "      <td>Reds</td>\n",
       "      <td>2</td>\n",
       "      <td>0</td>\n",
       "      <td>3</td>\n",
       "      <td>3</td>\n",
       "      <td>19.1</td>\n",
       "      <td>0.57</td>\n",
       "      <td>14.90</td>\n",
       "      <td>...</td>\n",
       "      <td>44.0</td>\n",
       "      <td>164</td>\n",
       "      <td>55</td>\n",
       "      <td>298.0</td>\n",
       "      <td>46</td>\n",
       "      <td>193</td>\n",
       "      <td>65</td>\n",
       "      <td>0.9</td>\n",
       "      <td>12703</td>\n",
       "      <td>Current Era</td>\n",
       "    </tr>\n",
       "  </tbody>\n",
       "</table>\n",
       "<p>5 rows × 31 columns</p>\n",
       "</div>"
      ],
      "text/plain": [
       "   season           name     team  W  L  G  GS    IP  WHIP    K/9  ... xFIP-  \\\n",
       "0    2020     Lance Lynn  Rangers  1  0  3   3  18.1  0.82  11.78  ...  86.0   \n",
       "1    2020   Randy Dobnak    Twins  2  1  3   3  15.0  0.87   4.80  ...  87.0   \n",
       "2    2020  Adrian Houser  Brewers  1  0  2   2  12.0  0.92   6.75  ...  89.0   \n",
       "3    2020   Shane Bieber  Indians  3  0  3   3  21.2  0.69  14.54  ...  30.0   \n",
       "4    2020   Trevor Bauer     Reds  2  0  3   3  19.1  0.57  14.90  ...  44.0   \n",
       "\n",
       "   K/9+ BB/9+  K/BB+ WHIP+  K%+  BB%+  WAR  playerid  Pitching Eras  \n",
       "0   132   121  109.0    64  149   136  0.7      2520    Current Era  \n",
       "1    54    65   82.0    68   61    75  0.4     23798    Current Era  \n",
       "2    74   111   67.0    74   89   133  0.1     12718    Current Era  \n",
       "3   163    34  478.0    54  189    40  1.0     19427    Current Era  \n",
       "4   164    55  298.0    46  193    65  0.9     12703    Current Era  \n",
       "\n",
       "[5 rows x 31 columns]"
      ]
     },
     "execution_count": 49,
     "metadata": {},
     "output_type": "execute_result"
    }
   ],
   "source": [
    "pitch3.head()"
   ]
  },
  {
   "cell_type": "code",
   "execution_count": 50,
   "id": "43ef4033",
   "metadata": {
    "execution": {
     "iopub.execute_input": "2023-03-06T00:00:12.239734Z",
     "iopub.status.busy": "2023-03-06T00:00:12.239137Z",
     "iopub.status.idle": "2023-03-06T00:00:12.509114Z",
     "shell.execute_reply": "2023-03-06T00:00:12.508418Z"
    },
    "papermill": {
     "duration": 0.299457,
     "end_time": "2023-03-06T00:00:12.510951",
     "exception": false,
     "start_time": "2023-03-06T00:00:12.211494",
     "status": "completed"
    },
    "tags": []
   },
   "outputs": [
    {
     "data": {
      "image/png": "[encoded data removed]",
      "text/plain": [
       "<Figure size 640x480 with 1 Axes>"
      ]
     },
     "metadata": {},
     "output_type": "display_data"
    }
   ],
   "source": [
    "# define the desired order of the Pitching Eras\n",
    "era_order = ['Post-Segregation', 'Dead Ball 2', 'Designated Hitter', 'Steroid Era', 'Post Steroid Era', 'Current Era']\n",
    "\n",
    "# create a categorical data type with the desired order\n",
    "era_cat = pd.CategoricalDtype(categories=era_order, ordered=True)\n",
    "\n",
    "# group by the Pitching Eras and calculate the mean WHIP\n",
    "k_by_era = pitch3.groupby('Pitching Eras')['K/9'].mean()\n",
    "\n",
    "# convert the Pitching Eras column to a categorical data type with the desired order\n",
    "k_by_era.index = k_by_era.index.astype(era_cat)\n",
    "\n",
    "# sort the DataFrame based on the categorical order\n",
    "k_by_era = k_by_era.sort_index()\n",
    "\n",
    "# convert the Series back to a DataFrame\n",
    "k_reset = k_by_era.reset_index()\n",
    "\n",
    "# plot the bar chart with the manually set order\n",
    "plt.bar(k_reset['Pitching Eras'], k_reset['K/9'])\n",
    "plt.xlabel('Pitching Eras')\n",
    "plt.ylabel('K/9')\n",
    "plt.xticks(rotation=45)\n",
    "plt.show()"
   ]
  },
  {
   "cell_type": "markdown",
   "id": "2ad4ff21",
   "metadata": {
    "papermill": {
     "duration": 0.026809,
     "end_time": "2023-03-06T00:00:12.567147",
     "exception": false,
     "start_time": "2023-03-06T00:00:12.540338",
     "status": "completed"
    },
    "tags": []
   },
   "source": [
    "## That is an amazing jump. Since the first grouping of my data it has effectively doubled in value. "
   ]
  },
  {
   "cell_type": "markdown",
   "id": "6fb2c029",
   "metadata": {
    "papermill": {
     "duration": 0.027301,
     "end_time": "2023-03-06T00:00:12.622022",
     "exception": false,
     "start_time": "2023-03-06T00:00:12.594721",
     "status": "completed"
    },
    "tags": []
   },
   "source": [
    "# What have we learned? \n",
    "\n",
    "## I learned that we are in a remarkable time for pitching. WHIP is low, K/9 is low, WAR is high. However, I also learned that this is not the best time in history perhaps. Dead Ball Era 2 is living up to it's name. Pitching then was about if not better than it is now in terms of statistics. Makes sense as many of my pitching heros are members of that pitching era group. I am excited to extend this project after this year.  There are a ton of rule changes this year including restricting shifts, introducing a pitch clock, and expanding the size of the bases. "
   ]
  }
 ],
 "metadata": {
  "kernelspec": {
   "display_name": "Python 3",
   "language": "python",
   "name": "python3"
  },
  "language_info": {
   "codemirror_mode": {
    "name": "ipython",
    "version": 3
   },
   "file_extension": ".py",
   "mimetype": "text/x-python",
   "name": "python",
   "nbconvert_exporter": "python",
   "pygments_lexer": "ipython3",
   "version": "3.7.12"
  },
  "papermill": {
   "default_parameters": {},
   "duration": 16.610989,
   "end_time": "2023-03-06T00:00:13.267920",
   "environment_variables": {},
   "exception": null,
   "input_path": "__notebook__.ipynb",
   "output_path": "__notebook__.ipynb",
   "parameters": {},
   "start_time": "2023-03-05T23:59:56.656931",
   "version": "2.3.4"
  }
 },
 "nbformat": 4,
 "nbformat_minor": 5
}
